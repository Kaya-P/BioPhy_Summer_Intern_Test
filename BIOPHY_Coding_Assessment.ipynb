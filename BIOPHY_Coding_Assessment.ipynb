{
  "cells": [
    {
      "cell_type": "markdown",
      "metadata": {
        "id": "mCfji6GidsvX"
      },
      "source": [
        "#BIOPHY Coding Assessment "
      ]
    },
    {
      "cell_type": "markdown",
      "metadata": {
        "id": "8L3FUxV7d1RJ"
      },
      "source": [
        "#Importing Packages"
      ]
    },
    {
      "cell_type": "code",
      "source": [
        "!pip install category_encoders"
      ],
      "metadata": {
        "id": "sZhCQMCS7ZUf"
      },
      "execution_count": null,
      "outputs": []
    },
    {
      "cell_type": "code",
      "execution_count": 112,
      "metadata": {
        "id": "oH2RD14Ve66A"
      },
      "outputs": [],
      "source": [
        "import pandas as pd\n",
        "import matplotlib.pyplot as plt\n",
        "import numpy as np\n",
        "from sklearn.linear_model import LogisticRegression\n",
        "from sklearn.ensemble import RandomForestClassifier\n",
        "from sklearn.metrics import classification_report, confusion_matrix\n",
        "from sklearn.model_selection import train_test_split\n",
        "from sklearn.model_selection import KFold\n",
        "from sklearn.model_selection import cross_val_score\n",
        "from sklearn.metrics import accuracy_score\n",
        "from sklearn.metrics import roc_auc_score\n",
        "from sklearn.metrics import f1_score\n",
        "import category_encoders as ce\n",
        "import tensorflow as tf\n",
        "import prince\n",
        "from sklearn.impute import SimpleImputer\n",
        "from sklearn.preprocessing import StandardScaler\n",
        "from sklearn.preprocessing import MinMaxScaler\n",
        "from sklearn.neighbors import KNeighborsClassifier\n",
        "from sklearn.metrics import mean_squared_error\n",
        "from sklearn.impute import KNNImputer\n",
        "from imblearn.under_sampling import RandomUnderSampler\n",
        "from imblearn.over_sampling import RandomOverSampler\n",
        "from sklearn.naive_bayes import GaussianNB\n",
        "from sklearn.neural_network import MLPClassifier"
      ]
    },
    {
      "cell_type": "markdown",
      "metadata": {
        "id": "aHoa6MpQd7DZ"
      },
      "source": [
        "#Importing Data"
      ]
    },
    {
      "cell_type": "markdown",
      "metadata": {
        "id": "e2Cpp8oMd95t"
      },
      "source": [
        "I have imported the provided data into a dataframe here"
      ]
    },
    {
      "cell_type": "code",
      "execution_count": 55,
      "metadata": {
        "id": "J1eZZ02UgnPc"
      },
      "outputs": [],
      "source": [
        "data_df = pd.read_csv(\"/content/drive/MyDrive/BioPhy_CodingTest.csv\") \n",
        "  "
      ]
    },
    {
      "cell_type": "markdown",
      "metadata": {
        "id": "6o5BhEgxhXZj"
      },
      "source": [
        "#EDA\n",
        "To begin, I start by understanding the data provided. The data shows that this is a binary classification problem with 13 ( and id) features and a label (\"human\" or \"bot\"). We have 37400+ data points. We can instantly drop the id column because this is unique to each data point and does not add any information to the model we end up designing. We can see that we have a mild class imbalance as 66% of the data is labeled as \"human\" and the rest as \"bot\". We also have missing values in \"language\" and \"location\", the only two categorical features we have. Almost all of the missing values are in the \"language\" feature (8000\\~). When looking at the data points with missing language, we see that 43~% of that data is labeled \"human\" and the rest \"bot\". This shows that the missing values do have a random nature. For the three data points with missing \"location\" (and there is no overlap of missing values between the two features) we see that 2 are \"human\" and 1 is \"bot\". We can also see the large range of numeric values over the different features, \"favorites_count\" has a mean of about 12300 while \"tweets per day\" has a mean of around 6. The categorical features also have high cardinality in classes, e.g location has over 12000 unique values with the most common being \"unknown\"."
      ]
    },
    {
      "cell_type": "code",
      "execution_count": 56,
      "metadata": {
        "colab": {
          "base_uri": "https://localhost:8080/"
        },
        "id": "rvMuEGQnhXGo",
        "outputId": "0e773bd6-0998-407b-baa7-52b3cfffbe66"
      },
      "outputs": [
        {
          "output_type": "execute_result",
          "data": {
            "text/plain": [
              "(37438, 14)"
            ]
          },
          "metadata": {},
          "execution_count": 56
        }
      ],
      "source": [
        "data_df.shape"
      ]
    },
    {
      "cell_type": "code",
      "execution_count": 57,
      "metadata": {
        "colab": {
          "base_uri": "https://localhost:8080/"
        },
        "id": "JvqkReegtVjm",
        "outputId": "6d604cba-df6a-4f45-9dca-467a8de6c70f"
      },
      "outputs": [
        {
          "output_type": "execute_result",
          "data": {
            "text/plain": [
              "default_profile              bool\n",
              "default_profile_image        bool\n",
              "favorites_count             int64\n",
              "followers_count             int64\n",
              "friends_count               int64\n",
              "geo_enabled                  bool\n",
              "id                        float64\n",
              "lang                       object\n",
              "location                   object\n",
              "statuses_count              int64\n",
              "verified                     bool\n",
              "average_tweets_per_day    float64\n",
              "account_age_days            int64\n",
              "account_type               object\n",
              "dtype: object"
            ]
          },
          "metadata": {},
          "execution_count": 57
        }
      ],
      "source": [
        "data_df.dtypes"
      ]
    },
    {
      "cell_type": "code",
      "execution_count": 58,
      "metadata": {
        "colab": {
          "base_uri": "https://localhost:8080/"
        },
        "id": "gu74gAs4e-W3",
        "outputId": "88202deb-8913-408f-9f04-8ab38695bafb"
      },
      "outputs": [
        {
          "output_type": "execute_result",
          "data": {
            "text/plain": [
              "Index(['default_profile', 'default_profile_image', 'favorites_count',\n",
              "       'followers_count', 'friends_count', 'geo_enabled', 'id', 'lang',\n",
              "       'location', 'statuses_count', 'verified', 'average_tweets_per_day',\n",
              "       'account_age_days', 'account_type'],\n",
              "      dtype='object')"
            ]
          },
          "metadata": {},
          "execution_count": 58
        }
      ],
      "source": [
        "data_df.columns"
      ]
    },
    {
      "cell_type": "code",
      "execution_count": 59,
      "metadata": {
        "colab": {
          "base_uri": "https://localhost:8080/",
          "height": 300
        },
        "id": "xcudotDHiS62",
        "outputId": "f5bd48e7-a8da-4405-e917-10ddb24560df"
      },
      "outputs": [
        {
          "output_type": "execute_result",
          "data": {
            "text/plain": [
              "       favorites_count  followers_count  friends_count            id  \\\n",
              "count     37438.000000     3.743800e+04   3.743800e+04  3.743800e+04   \n",
              "mean      12302.062183     3.703098e+05   4.445925e+03  1.221485e+17   \n",
              "std       33923.650237     2.470829e+06   4.954520e+04  3.004180e+17   \n",
              "min           0.000000     0.000000e+00   0.000000e+00  4.180000e+02   \n",
              "25%         362.000000     3.500000e+01   3.700000e+01  9.957306e+07   \n",
              "50%        2066.000000     3.650000e+02   2.960000e+02  3.991474e+08   \n",
              "75%        8879.000000     8.440250e+03   8.930000e+02  2.453826e+09   \n",
              "max      885123.000000     1.216415e+08   4.343060e+06  1.120000e+18   \n",
              "\n",
              "       statuses_count  average_tweets_per_day  account_age_days  \n",
              "count    3.743800e+04            37438.000000      37438.000000  \n",
              "mean     2.107339e+04                6.891668       3022.128052  \n",
              "std      6.732977e+04               24.580116       1013.695870  \n",
              "min      0.000000e+00                0.000000        483.000000  \n",
              "25%      1.336250e+03                0.495000       2316.250000  \n",
              "50%      4.209000e+03                1.488000       3219.000000  \n",
              "75%      1.715375e+04                5.528000       3888.000000  \n",
              "max      2.771910e+06             1269.055000       5158.000000  "
            ],
            "text/html": [
              "\n",
              "  <div id=\"df-bb22e141-7091-4c5b-acff-0d5e8ca5c5c8\">\n",
              "    <div class=\"colab-df-container\">\n",
              "      <div>\n",
              "<style scoped>\n",
              "    .dataframe tbody tr th:only-of-type {\n",
              "        vertical-align: middle;\n",
              "    }\n",
              "\n",
              "    .dataframe tbody tr th {\n",
              "        vertical-align: top;\n",
              "    }\n",
              "\n",
              "    .dataframe thead th {\n",
              "        text-align: right;\n",
              "    }\n",
              "</style>\n",
              "<table border=\"1\" class=\"dataframe\">\n",
              "  <thead>\n",
              "    <tr style=\"text-align: right;\">\n",
              "      <th></th>\n",
              "      <th>favorites_count</th>\n",
              "      <th>followers_count</th>\n",
              "      <th>friends_count</th>\n",
              "      <th>id</th>\n",
              "      <th>statuses_count</th>\n",
              "      <th>average_tweets_per_day</th>\n",
              "      <th>account_age_days</th>\n",
              "    </tr>\n",
              "  </thead>\n",
              "  <tbody>\n",
              "    <tr>\n",
              "      <th>count</th>\n",
              "      <td>37438.000000</td>\n",
              "      <td>3.743800e+04</td>\n",
              "      <td>3.743800e+04</td>\n",
              "      <td>3.743800e+04</td>\n",
              "      <td>3.743800e+04</td>\n",
              "      <td>37438.000000</td>\n",
              "      <td>37438.000000</td>\n",
              "    </tr>\n",
              "    <tr>\n",
              "      <th>mean</th>\n",
              "      <td>12302.062183</td>\n",
              "      <td>3.703098e+05</td>\n",
              "      <td>4.445925e+03</td>\n",
              "      <td>1.221485e+17</td>\n",
              "      <td>2.107339e+04</td>\n",
              "      <td>6.891668</td>\n",
              "      <td>3022.128052</td>\n",
              "    </tr>\n",
              "    <tr>\n",
              "      <th>std</th>\n",
              "      <td>33923.650237</td>\n",
              "      <td>2.470829e+06</td>\n",
              "      <td>4.954520e+04</td>\n",
              "      <td>3.004180e+17</td>\n",
              "      <td>6.732977e+04</td>\n",
              "      <td>24.580116</td>\n",
              "      <td>1013.695870</td>\n",
              "    </tr>\n",
              "    <tr>\n",
              "      <th>min</th>\n",
              "      <td>0.000000</td>\n",
              "      <td>0.000000e+00</td>\n",
              "      <td>0.000000e+00</td>\n",
              "      <td>4.180000e+02</td>\n",
              "      <td>0.000000e+00</td>\n",
              "      <td>0.000000</td>\n",
              "      <td>483.000000</td>\n",
              "    </tr>\n",
              "    <tr>\n",
              "      <th>25%</th>\n",
              "      <td>362.000000</td>\n",
              "      <td>3.500000e+01</td>\n",
              "      <td>3.700000e+01</td>\n",
              "      <td>9.957306e+07</td>\n",
              "      <td>1.336250e+03</td>\n",
              "      <td>0.495000</td>\n",
              "      <td>2316.250000</td>\n",
              "    </tr>\n",
              "    <tr>\n",
              "      <th>50%</th>\n",
              "      <td>2066.000000</td>\n",
              "      <td>3.650000e+02</td>\n",
              "      <td>2.960000e+02</td>\n",
              "      <td>3.991474e+08</td>\n",
              "      <td>4.209000e+03</td>\n",
              "      <td>1.488000</td>\n",
              "      <td>3219.000000</td>\n",
              "    </tr>\n",
              "    <tr>\n",
              "      <th>75%</th>\n",
              "      <td>8879.000000</td>\n",
              "      <td>8.440250e+03</td>\n",
              "      <td>8.930000e+02</td>\n",
              "      <td>2.453826e+09</td>\n",
              "      <td>1.715375e+04</td>\n",
              "      <td>5.528000</td>\n",
              "      <td>3888.000000</td>\n",
              "    </tr>\n",
              "    <tr>\n",
              "      <th>max</th>\n",
              "      <td>885123.000000</td>\n",
              "      <td>1.216415e+08</td>\n",
              "      <td>4.343060e+06</td>\n",
              "      <td>1.120000e+18</td>\n",
              "      <td>2.771910e+06</td>\n",
              "      <td>1269.055000</td>\n",
              "      <td>5158.000000</td>\n",
              "    </tr>\n",
              "  </tbody>\n",
              "</table>\n",
              "</div>\n",
              "      <button class=\"colab-df-convert\" onclick=\"convertToInteractive('df-bb22e141-7091-4c5b-acff-0d5e8ca5c5c8')\"\n",
              "              title=\"Convert this dataframe to an interactive table.\"\n",
              "              style=\"display:none;\">\n",
              "        \n",
              "  <svg xmlns=\"http://www.w3.org/2000/svg\" height=\"24px\"viewBox=\"0 0 24 24\"\n",
              "       width=\"24px\">\n",
              "    <path d=\"M0 0h24v24H0V0z\" fill=\"none\"/>\n",
              "    <path d=\"M18.56 5.44l.94 2.06.94-2.06 2.06-.94-2.06-.94-.94-2.06-.94 2.06-2.06.94zm-11 1L8.5 8.5l.94-2.06 2.06-.94-2.06-.94L8.5 2.5l-.94 2.06-2.06.94zm10 10l.94 2.06.94-2.06 2.06-.94-2.06-.94-.94-2.06-.94 2.06-2.06.94z\"/><path d=\"M17.41 7.96l-1.37-1.37c-.4-.4-.92-.59-1.43-.59-.52 0-1.04.2-1.43.59L10.3 9.45l-7.72 7.72c-.78.78-.78 2.05 0 2.83L4 21.41c.39.39.9.59 1.41.59.51 0 1.02-.2 1.41-.59l7.78-7.78 2.81-2.81c.8-.78.8-2.07 0-2.86zM5.41 20L4 18.59l7.72-7.72 1.47 1.35L5.41 20z\"/>\n",
              "  </svg>\n",
              "      </button>\n",
              "      \n",
              "  <style>\n",
              "    .colab-df-container {\n",
              "      display:flex;\n",
              "      flex-wrap:wrap;\n",
              "      gap: 12px;\n",
              "    }\n",
              "\n",
              "    .colab-df-convert {\n",
              "      background-color: #E8F0FE;\n",
              "      border: none;\n",
              "      border-radius: 50%;\n",
              "      cursor: pointer;\n",
              "      display: none;\n",
              "      fill: #1967D2;\n",
              "      height: 32px;\n",
              "      padding: 0 0 0 0;\n",
              "      width: 32px;\n",
              "    }\n",
              "\n",
              "    .colab-df-convert:hover {\n",
              "      background-color: #E2EBFA;\n",
              "      box-shadow: 0px 1px 2px rgba(60, 64, 67, 0.3), 0px 1px 3px 1px rgba(60, 64, 67, 0.15);\n",
              "      fill: #174EA6;\n",
              "    }\n",
              "\n",
              "    [theme=dark] .colab-df-convert {\n",
              "      background-color: #3B4455;\n",
              "      fill: #D2E3FC;\n",
              "    }\n",
              "\n",
              "    [theme=dark] .colab-df-convert:hover {\n",
              "      background-color: #434B5C;\n",
              "      box-shadow: 0px 1px 3px 1px rgba(0, 0, 0, 0.15);\n",
              "      filter: drop-shadow(0px 1px 2px rgba(0, 0, 0, 0.3));\n",
              "      fill: #FFFFFF;\n",
              "    }\n",
              "  </style>\n",
              "\n",
              "      <script>\n",
              "        const buttonEl =\n",
              "          document.querySelector('#df-bb22e141-7091-4c5b-acff-0d5e8ca5c5c8 button.colab-df-convert');\n",
              "        buttonEl.style.display =\n",
              "          google.colab.kernel.accessAllowed ? 'block' : 'none';\n",
              "\n",
              "        async function convertToInteractive(key) {\n",
              "          const element = document.querySelector('#df-bb22e141-7091-4c5b-acff-0d5e8ca5c5c8');\n",
              "          const dataTable =\n",
              "            await google.colab.kernel.invokeFunction('convertToInteractive',\n",
              "                                                     [key], {});\n",
              "          if (!dataTable) return;\n",
              "\n",
              "          const docLinkHtml = 'Like what you see? Visit the ' +\n",
              "            '<a target=\"_blank\" href=https://colab.research.google.com/notebooks/data_table.ipynb>data table notebook</a>'\n",
              "            + ' to learn more about interactive tables.';\n",
              "          element.innerHTML = '';\n",
              "          dataTable['output_type'] = 'display_data';\n",
              "          await google.colab.output.renderOutput(dataTable, element);\n",
              "          const docLink = document.createElement('div');\n",
              "          docLink.innerHTML = docLinkHtml;\n",
              "          element.appendChild(docLink);\n",
              "        }\n",
              "      </script>\n",
              "    </div>\n",
              "  </div>\n",
              "  "
            ]
          },
          "metadata": {},
          "execution_count": 59
        }
      ],
      "source": [
        "data_df.describe()"
      ]
    },
    {
      "cell_type": "code",
      "execution_count": 60,
      "metadata": {
        "colab": {
          "base_uri": "https://localhost:8080/",
          "height": 357
        },
        "id": "8j9gU6vkqN0v",
        "outputId": "b615f555-b0a0-4b77-cdb7-7675f3b1c6fd"
      },
      "outputs": [
        {
          "output_type": "execute_result",
          "data": {
            "text/plain": [
              "   default_profile  default_profile_image  favorites_count  followers_count  \\\n",
              "0            False                  False                4             1589   \n",
              "1            False                  False              536              860   \n",
              "2            False                  False             3307              172   \n",
              "3             True                  False             8433              517   \n",
              "4            False                  False               88           753678   \n",
              "\n",
              "   friends_count  geo_enabled            id lang                 location  \\\n",
              "0              4        False  7.870000e+17   en                  unknown   \n",
              "1            880        False  7.960000e+17   en           Estados Unidos   \n",
              "2            594         True  8.760000e+17   en          Los Angeles, CA   \n",
              "3            633         True  7.560000e+17   en           Birmingham, AL   \n",
              "4            116         True  4.647813e+08   en  England, United Kingdom   \n",
              "\n",
              "   statuses_count  verified  average_tweets_per_day  account_age_days  \\\n",
              "0           11041     False                   7.870              1403   \n",
              "1             252     False                   0.183              1379   \n",
              "2            1001     False                   0.864              1159   \n",
              "3            1324     False                   0.889              1489   \n",
              "4            4202      True                   1.339              3138   \n",
              "\n",
              "  account_type  \n",
              "0          bot  \n",
              "1        human  \n",
              "2        human  \n",
              "3        human  \n",
              "4        human  "
            ],
            "text/html": [
              "\n",
              "  <div id=\"df-e2066e27-4e1a-4bc9-9544-9c6fa7c6ae1d\">\n",
              "    <div class=\"colab-df-container\">\n",
              "      <div>\n",
              "<style scoped>\n",
              "    .dataframe tbody tr th:only-of-type {\n",
              "        vertical-align: middle;\n",
              "    }\n",
              "\n",
              "    .dataframe tbody tr th {\n",
              "        vertical-align: top;\n",
              "    }\n",
              "\n",
              "    .dataframe thead th {\n",
              "        text-align: right;\n",
              "    }\n",
              "</style>\n",
              "<table border=\"1\" class=\"dataframe\">\n",
              "  <thead>\n",
              "    <tr style=\"text-align: right;\">\n",
              "      <th></th>\n",
              "      <th>default_profile</th>\n",
              "      <th>default_profile_image</th>\n",
              "      <th>favorites_count</th>\n",
              "      <th>followers_count</th>\n",
              "      <th>friends_count</th>\n",
              "      <th>geo_enabled</th>\n",
              "      <th>id</th>\n",
              "      <th>lang</th>\n",
              "      <th>location</th>\n",
              "      <th>statuses_count</th>\n",
              "      <th>verified</th>\n",
              "      <th>average_tweets_per_day</th>\n",
              "      <th>account_age_days</th>\n",
              "      <th>account_type</th>\n",
              "    </tr>\n",
              "  </thead>\n",
              "  <tbody>\n",
              "    <tr>\n",
              "      <th>0</th>\n",
              "      <td>False</td>\n",
              "      <td>False</td>\n",
              "      <td>4</td>\n",
              "      <td>1589</td>\n",
              "      <td>4</td>\n",
              "      <td>False</td>\n",
              "      <td>7.870000e+17</td>\n",
              "      <td>en</td>\n",
              "      <td>unknown</td>\n",
              "      <td>11041</td>\n",
              "      <td>False</td>\n",
              "      <td>7.870</td>\n",
              "      <td>1403</td>\n",
              "      <td>bot</td>\n",
              "    </tr>\n",
              "    <tr>\n",
              "      <th>1</th>\n",
              "      <td>False</td>\n",
              "      <td>False</td>\n",
              "      <td>536</td>\n",
              "      <td>860</td>\n",
              "      <td>880</td>\n",
              "      <td>False</td>\n",
              "      <td>7.960000e+17</td>\n",
              "      <td>en</td>\n",
              "      <td>Estados Unidos</td>\n",
              "      <td>252</td>\n",
              "      <td>False</td>\n",
              "      <td>0.183</td>\n",
              "      <td>1379</td>\n",
              "      <td>human</td>\n",
              "    </tr>\n",
              "    <tr>\n",
              "      <th>2</th>\n",
              "      <td>False</td>\n",
              "      <td>False</td>\n",
              "      <td>3307</td>\n",
              "      <td>172</td>\n",
              "      <td>594</td>\n",
              "      <td>True</td>\n",
              "      <td>8.760000e+17</td>\n",
              "      <td>en</td>\n",
              "      <td>Los Angeles, CA</td>\n",
              "      <td>1001</td>\n",
              "      <td>False</td>\n",
              "      <td>0.864</td>\n",
              "      <td>1159</td>\n",
              "      <td>human</td>\n",
              "    </tr>\n",
              "    <tr>\n",
              "      <th>3</th>\n",
              "      <td>True</td>\n",
              "      <td>False</td>\n",
              "      <td>8433</td>\n",
              "      <td>517</td>\n",
              "      <td>633</td>\n",
              "      <td>True</td>\n",
              "      <td>7.560000e+17</td>\n",
              "      <td>en</td>\n",
              "      <td>Birmingham, AL</td>\n",
              "      <td>1324</td>\n",
              "      <td>False</td>\n",
              "      <td>0.889</td>\n",
              "      <td>1489</td>\n",
              "      <td>human</td>\n",
              "    </tr>\n",
              "    <tr>\n",
              "      <th>4</th>\n",
              "      <td>False</td>\n",
              "      <td>False</td>\n",
              "      <td>88</td>\n",
              "      <td>753678</td>\n",
              "      <td>116</td>\n",
              "      <td>True</td>\n",
              "      <td>4.647813e+08</td>\n",
              "      <td>en</td>\n",
              "      <td>England, United Kingdom</td>\n",
              "      <td>4202</td>\n",
              "      <td>True</td>\n",
              "      <td>1.339</td>\n",
              "      <td>3138</td>\n",
              "      <td>human</td>\n",
              "    </tr>\n",
              "  </tbody>\n",
              "</table>\n",
              "</div>\n",
              "      <button class=\"colab-df-convert\" onclick=\"convertToInteractive('df-e2066e27-4e1a-4bc9-9544-9c6fa7c6ae1d')\"\n",
              "              title=\"Convert this dataframe to an interactive table.\"\n",
              "              style=\"display:none;\">\n",
              "        \n",
              "  <svg xmlns=\"http://www.w3.org/2000/svg\" height=\"24px\"viewBox=\"0 0 24 24\"\n",
              "       width=\"24px\">\n",
              "    <path d=\"M0 0h24v24H0V0z\" fill=\"none\"/>\n",
              "    <path d=\"M18.56 5.44l.94 2.06.94-2.06 2.06-.94-2.06-.94-.94-2.06-.94 2.06-2.06.94zm-11 1L8.5 8.5l.94-2.06 2.06-.94-2.06-.94L8.5 2.5l-.94 2.06-2.06.94zm10 10l.94 2.06.94-2.06 2.06-.94-2.06-.94-.94-2.06-.94 2.06-2.06.94z\"/><path d=\"M17.41 7.96l-1.37-1.37c-.4-.4-.92-.59-1.43-.59-.52 0-1.04.2-1.43.59L10.3 9.45l-7.72 7.72c-.78.78-.78 2.05 0 2.83L4 21.41c.39.39.9.59 1.41.59.51 0 1.02-.2 1.41-.59l7.78-7.78 2.81-2.81c.8-.78.8-2.07 0-2.86zM5.41 20L4 18.59l7.72-7.72 1.47 1.35L5.41 20z\"/>\n",
              "  </svg>\n",
              "      </button>\n",
              "      \n",
              "  <style>\n",
              "    .colab-df-container {\n",
              "      display:flex;\n",
              "      flex-wrap:wrap;\n",
              "      gap: 12px;\n",
              "    }\n",
              "\n",
              "    .colab-df-convert {\n",
              "      background-color: #E8F0FE;\n",
              "      border: none;\n",
              "      border-radius: 50%;\n",
              "      cursor: pointer;\n",
              "      display: none;\n",
              "      fill: #1967D2;\n",
              "      height: 32px;\n",
              "      padding: 0 0 0 0;\n",
              "      width: 32px;\n",
              "    }\n",
              "\n",
              "    .colab-df-convert:hover {\n",
              "      background-color: #E2EBFA;\n",
              "      box-shadow: 0px 1px 2px rgba(60, 64, 67, 0.3), 0px 1px 3px 1px rgba(60, 64, 67, 0.15);\n",
              "      fill: #174EA6;\n",
              "    }\n",
              "\n",
              "    [theme=dark] .colab-df-convert {\n",
              "      background-color: #3B4455;\n",
              "      fill: #D2E3FC;\n",
              "    }\n",
              "\n",
              "    [theme=dark] .colab-df-convert:hover {\n",
              "      background-color: #434B5C;\n",
              "      box-shadow: 0px 1px 3px 1px rgba(0, 0, 0, 0.15);\n",
              "      filter: drop-shadow(0px 1px 2px rgba(0, 0, 0, 0.3));\n",
              "      fill: #FFFFFF;\n",
              "    }\n",
              "  </style>\n",
              "\n",
              "      <script>\n",
              "        const buttonEl =\n",
              "          document.querySelector('#df-e2066e27-4e1a-4bc9-9544-9c6fa7c6ae1d button.colab-df-convert');\n",
              "        buttonEl.style.display =\n",
              "          google.colab.kernel.accessAllowed ? 'block' : 'none';\n",
              "\n",
              "        async function convertToInteractive(key) {\n",
              "          const element = document.querySelector('#df-e2066e27-4e1a-4bc9-9544-9c6fa7c6ae1d');\n",
              "          const dataTable =\n",
              "            await google.colab.kernel.invokeFunction('convertToInteractive',\n",
              "                                                     [key], {});\n",
              "          if (!dataTable) return;\n",
              "\n",
              "          const docLinkHtml = 'Like what you see? Visit the ' +\n",
              "            '<a target=\"_blank\" href=https://colab.research.google.com/notebooks/data_table.ipynb>data table notebook</a>'\n",
              "            + ' to learn more about interactive tables.';\n",
              "          element.innerHTML = '';\n",
              "          dataTable['output_type'] = 'display_data';\n",
              "          await google.colab.output.renderOutput(dataTable, element);\n",
              "          const docLink = document.createElement('div');\n",
              "          docLink.innerHTML = docLinkHtml;\n",
              "          element.appendChild(docLink);\n",
              "        }\n",
              "      </script>\n",
              "    </div>\n",
              "  </div>\n",
              "  "
            ]
          },
          "metadata": {},
          "execution_count": 60
        }
      ],
      "source": [
        "data_df.head()"
      ]
    },
    {
      "cell_type": "code",
      "execution_count": 61,
      "metadata": {
        "id": "bjAXLq55e63R"
      },
      "outputs": [],
      "source": [
        "data_df.drop([\"id\"], axis =1, inplace = True)"
      ]
    },
    {
      "cell_type": "code",
      "execution_count": 62,
      "metadata": {
        "colab": {
          "base_uri": "https://localhost:8080/"
        },
        "id": "CO8XuwRHewBN",
        "outputId": "284cebfe-25cd-47b5-a5e6-b8ab167427d9"
      },
      "outputs": [
        {
          "output_type": "execute_result",
          "data": {
            "text/plain": [
              "human    25013\n",
              "bot      12425\n",
              "Name: account_type, dtype: int64"
            ]
          },
          "metadata": {},
          "execution_count": 62
        }
      ],
      "source": [
        "data_df['account_type'].value_counts()"
      ]
    },
    {
      "cell_type": "code",
      "execution_count": 63,
      "metadata": {
        "colab": {
          "base_uri": "https://localhost:8080/",
          "height": 323
        },
        "id": "bsGKPEY4hHFx",
        "outputId": "3c5415b7-8c4f-4c18-d71f-e9706b1276b8"
      },
      "outputs": [
        {
          "output_type": "execute_result",
          "data": {
            "text/plain": [
              "<matplotlib.axes._subplots.AxesSubplot at 0x7f48fdd6c090>"
            ]
          },
          "metadata": {},
          "execution_count": 63
        },
        {
          "output_type": "display_data",
          "data": {
            "text/plain": [
              "<Figure size 432x288 with 1 Axes>"
            ],
            "image/png": "[encoded data removed]"
          },
          "metadata": {
            "needs_background": "light"
          }
        }
      ],
      "source": [
        "data_df.account_type.value_counts().sort_values().plot(kind = 'bar', title = \"Labels for Raw Data\")"
      ]
    },
    {
      "cell_type": "code",
      "execution_count": 64,
      "metadata": {
        "colab": {
          "base_uri": "https://localhost:8080/"
        },
        "id": "FWVJDyINMfIR",
        "outputId": "51598493-b1b0-419f-9451-512473e45f53"
      },
      "outputs": [
        {
          "output_type": "execute_result",
          "data": {
            "text/plain": [
              "default_profile              0\n",
              "default_profile_image        0\n",
              "favorites_count              0\n",
              "followers_count              0\n",
              "friends_count                0\n",
              "geo_enabled                  0\n",
              "lang                      7957\n",
              "location                     3\n",
              "statuses_count               0\n",
              "verified                     0\n",
              "average_tweets_per_day       0\n",
              "account_age_days             0\n",
              "account_type                 0\n",
              "dtype: int64"
            ]
          },
          "metadata": {},
          "execution_count": 64
        }
      ],
      "source": [
        "data_df.isnull().sum()"
      ]
    },
    {
      "cell_type": "code",
      "execution_count": 65,
      "metadata": {
        "colab": {
          "base_uri": "https://localhost:8080/"
        },
        "id": "Q0-2hayUxPF8",
        "outputId": "549adebf-de5e-443c-dde8-051cd52d2ebf"
      },
      "outputs": [
        {
          "output_type": "execute_result",
          "data": {
            "text/plain": [
              "unknown                    13023\n",
              "Los Angeles, CA              524\n",
              "New York, NY                 339\n",
              "United States                239\n",
              "Washington, DC               224\n",
              "                           ...  \n",
              "Northern Colorado              1\n",
              "Mercersburg, PA                1\n",
              "\\nİzmir                        1\n",
              "The Beach                      1\n",
              "En constante movimiento        1\n",
              "Name: location, Length: 12047, dtype: int64"
            ]
          },
          "metadata": {},
          "execution_count": 65
        }
      ],
      "source": [
        "data_df['location'].value_counts()"
      ]
    },
    {
      "cell_type": "code",
      "execution_count": 66,
      "metadata": {
        "id": "6C7nOxPaM_1p"
      },
      "outputs": [],
      "source": [
        "lang_df = data_df[data_df.lang.isnull()]"
      ]
    },
    {
      "cell_type": "code",
      "execution_count": 67,
      "metadata": {
        "colab": {
          "base_uri": "https://localhost:8080/"
        },
        "id": "Vir0lIndUQ_y",
        "outputId": "09f0a172-ab2d-48ce-cdaa-ab21862cb0ea"
      },
      "outputs": [
        {
          "output_type": "execute_result",
          "data": {
            "text/plain": [
              "unknown             4736\n",
              "Los Angeles, CA       59\n",
              "United States         28\n",
              "New York              21\n",
              "Houston, TX           19\n",
              "                    ... \n",
              "In his arms            1\n",
              "Minoa, NY              1\n",
              "Universal              1\n",
              "On the moon            1\n",
              "Trabzon, Türkiye       1\n",
              "Name: location, Length: 2242, dtype: int64"
            ]
          },
          "metadata": {},
          "execution_count": 67
        }
      ],
      "source": [
        "lang_df['location'].value_counts()"
      ]
    },
    {
      "cell_type": "code",
      "execution_count": 68,
      "metadata": {
        "colab": {
          "base_uri": "https://localhost:8080/"
        },
        "id": "UVYrUfQJVIad",
        "outputId": "f3847f4e-785f-4233-f1ea-c2bf8265ed3f"
      },
      "outputs": [
        {
          "output_type": "execute_result",
          "data": {
            "text/plain": [
              "bot      4493\n",
              "human    3464\n",
              "Name: account_type, dtype: int64"
            ]
          },
          "metadata": {},
          "execution_count": 68
        }
      ],
      "source": [
        "lang_df['account_type'].value_counts()"
      ]
    },
    {
      "cell_type": "code",
      "execution_count": 69,
      "metadata": {
        "colab": {
          "base_uri": "https://localhost:8080/",
          "height": 323
        },
        "id": "OFjuzKsZhQPj",
        "outputId": "ba664a86-8ff9-4bb9-bf53-c6f0f0c7b3d0"
      },
      "outputs": [
        {
          "output_type": "execute_result",
          "data": {
            "text/plain": [
              "<matplotlib.axes._subplots.AxesSubplot at 0x7f48fd069150>"
            ]
          },
          "metadata": {},
          "execution_count": 69
        },
        {
          "output_type": "display_data",
          "data": {
            "text/plain": [
              "<Figure size 432x288 with 1 Axes>"
            ],
            "image/png": "[encoded data removed]"
          },
          "metadata": {
            "needs_background": "light"
          }
        }
      ],
      "source": [
        "lang_df.account_type.value_counts().sort_values().plot(kind = 'bar',title = \"Labels for Data with Missing Language\")"
      ]
    },
    {
      "cell_type": "code",
      "execution_count": 70,
      "metadata": {
        "colab": {
          "base_uri": "https://localhost:8080/"
        },
        "id": "dbUstWKkOtlV",
        "outputId": "ca0552f4-eea3-4891-a44d-d42d48a659c9"
      },
      "outputs": [
        {
          "output_type": "execute_result",
          "data": {
            "text/plain": [
              "7960"
            ]
          },
          "metadata": {},
          "execution_count": 70
        }
      ],
      "source": [
        "data_df.isnull().sum().sum()"
      ]
    },
    {
      "cell_type": "code",
      "execution_count": 71,
      "metadata": {
        "id": "WKh7v8jlgn3y"
      },
      "outputs": [],
      "source": [
        "loc_df = data_df[data_df.location.isnull()]"
      ]
    },
    {
      "cell_type": "code",
      "execution_count": 72,
      "metadata": {
        "colab": {
          "base_uri": "https://localhost:8080/"
        },
        "id": "r4pW1sbqgtK1",
        "outputId": "42cdc04c-e383-467d-f7cb-757200ed0f81"
      },
      "outputs": [
        {
          "output_type": "execute_result",
          "data": {
            "text/plain": [
              "human    2\n",
              "bot      1\n",
              "Name: account_type, dtype: int64"
            ]
          },
          "metadata": {},
          "execution_count": 72
        }
      ],
      "source": [
        "loc_df['account_type'].value_counts()"
      ]
    },
    {
      "cell_type": "code",
      "execution_count": 73,
      "metadata": {
        "colab": {
          "base_uri": "https://localhost:8080/",
          "height": 323
        },
        "id": "tAjJHPgAhVVQ",
        "outputId": "fa8ca744-2e44-48f6-a57e-da703293148d"
      },
      "outputs": [
        {
          "output_type": "execute_result",
          "data": {
            "text/plain": [
              "<matplotlib.axes._subplots.AxesSubplot at 0x7f48fd046a10>"
            ]
          },
          "metadata": {},
          "execution_count": 73
        },
        {
          "output_type": "display_data",
          "data": {
            "text/plain": [
              "<Figure size 432x288 with 1 Axes>"
            ],
            "image/png": "[encoded data removed]"
          },
          "metadata": {
            "needs_background": "light"
          }
        }
      ],
      "source": [
        "loc_df.account_type.value_counts().sort_values().plot(kind = 'bar', title = \"Labels for Data with Missing Location\")"
      ]
    },
    {
      "cell_type": "markdown",
      "metadata": {
        "id": "gfH9BoxBpzDC"
      },
      "source": [
        "Below we change boolen features to 1,0 integer representation of the features as well as changing the labels from \"human\" and \"bot\" to 1,0. "
      ]
    },
    {
      "cell_type": "code",
      "execution_count": 74,
      "metadata": {
        "id": "bYUFjRVTIh0t"
      },
      "outputs": [],
      "source": [
        "for c in data_df:\n",
        "  if data_df[c].dtype == bool:\n",
        "    data_df[c] = data_df[c].astype(int)"
      ]
    },
    {
      "cell_type": "code",
      "execution_count": 75,
      "metadata": {
        "id": "Sh52ZyCwLJNL"
      },
      "outputs": [],
      "source": [
        "data_df[\"account_type\"] = np.where(data_df['account_type'] == 'human', 1, 0)"
      ]
    },
    {
      "cell_type": "markdown",
      "metadata": {
        "id": "sR7WYDq9jcyw"
      },
      "source": [
        "#Plan of Action\n",
        "1. **Imputation** \\\\\n",
        "    With almost 20% of the data having a missing value it is important to try to impute the missing values to try to keep as much data as we can.  \n",
        "2. **Encoding Categorical values** \\\\\n",
        "    With such high cardinality amongst our categorical variables, we cannot just one-hot encode these values as it will increase the number of our features in our model immensely. Binary Encoding and Target Encoding to see which approach works best with our data.\n",
        "3. **Sampling** \\\\\n",
        "  Given the mild class imbalance, I will try both under and over-sampling on the training data to see if balancing the classes, improves model performance. \n",
        "4. **Scaling** \\\\\n",
        "Given the range of values in the numeric data, I will use both normalization and standardization and compare the performance in a KNN model\n",
        "\n",
        "5. **Model Selection** \\\\\n",
        "All the above steps are possible costs we must incur to preprocess our data for our model. If the given data set is expanded to 100,000's rows, the above processing techniques can become very expensive. So firstly, I will remove the categorical data and train simple models on the remaining raw data and see how well the models perform. I will then compare the performance of these models to models with preprocessed data. This is will allow us to see how effective the above models are in improving our models.\n",
        "\n",
        "\n",
        "\n",
        "\n",
        "\n",
        "\n"
      ]
    },
    {
      "cell_type": "markdown",
      "metadata": {
        "id": "a4AW2MiWVP6l"
      },
      "source": [
        "#Imputation\n",
        "I chose to use a simple imputer to impute missing values. For all Null values, I replace them with \"missing\". I chose to include this technique because I thought the fact these feature values were missing for some data points could be informative of if it is a \"bot\" or \"human\". If I had used the most frequent method, I would have written in \"unknown\" for all the locations and \"en\" for the missing languages, which might lose the inherent information is the missingness of those features. "
      ]
    },
    {
      "cell_type": "code",
      "execution_count": 120,
      "metadata": {
        "id": "v5i4Mji-WCxD"
      },
      "outputs": [],
      "source": [
        "df = data_df.copy()"
      ]
    },
    {
      "cell_type": "markdown",
      "source": [
        "##Simple Imputer: Missing"
      ],
      "metadata": {
        "id": "3R-SUeEyRafe"
      }
    },
    {
      "cell_type": "code",
      "execution_count": 121,
      "metadata": {
        "id": "3AWNzjHnWAPK"
      },
      "outputs": [],
      "source": [
        "imputer = SimpleImputer(strategy='constant', fill_value='missing')\n",
        "imp_miss_df = pd.DataFrame(imputer.fit_transform(df), columns = df.columns)"
      ]
    },
    {
      "cell_type": "code",
      "execution_count": 122,
      "metadata": {
        "colab": {
          "base_uri": "https://localhost:8080/",
          "height": 661
        },
        "id": "dRYw73_vYvsH",
        "outputId": "34a57407-76d0-45c7-a756-e39df4e0d06a"
      },
      "outputs": [
        {
          "output_type": "execute_result",
          "data": {
            "text/plain": [
              "      default_profile default_profile_image favorites_count followers_count  \\\n",
              "0                   0                     0               4            1589   \n",
              "1                   0                     0             536             860   \n",
              "2                   0                     0            3307             172   \n",
              "3                   1                     0            8433             517   \n",
              "4                   0                     0              88          753678   \n",
              "...               ...                   ...             ...             ...   \n",
              "37433               1                     0             651             139   \n",
              "37434               0                     0            8839         1121486   \n",
              "37435               1                     0             399           85630   \n",
              "37436               0                     0             967             138   \n",
              "37437               0                     0            1092               5   \n",
              "\n",
              "      friends_count geo_enabled   lang                 location  \\\n",
              "0                 4           0     en                  unknown   \n",
              "1               880           0     en           Estados Unidos   \n",
              "2               594           1     en          Los Angeles, CA   \n",
              "3               633           1     en           Birmingham, AL   \n",
              "4               116           1     en  England, United Kingdom   \n",
              "...             ...         ...    ...                      ...   \n",
              "37433          1105           0     en       Kingston Upon Hull   \n",
              "37434           605           1     en                  unknown   \n",
              "37435           190           0     it  En constante movimiento   \n",
              "37436           166           1     en          Los Angeles, CA   \n",
              "37437            39           0  zh-cn                       中国   \n",
              "\n",
              "      statuses_count verified average_tweets_per_day account_age_days  \\\n",
              "0              11041        0                   7.87             1403   \n",
              "1                252        0                  0.183             1379   \n",
              "2               1001        0                  0.864             1159   \n",
              "3               1324        0                  0.889             1489   \n",
              "4               4202        1                  1.339             3138   \n",
              "...              ...      ...                    ...              ...   \n",
              "37433            340        0                  0.084             4028   \n",
              "37434          24970        1                  8.976             2782   \n",
              "37435           6174        1                  2.226             2773   \n",
              "37436            982        0                  0.339             2899   \n",
              "37437           1563        0                  0.493             3172   \n",
              "\n",
              "      account_type  \n",
              "0                0  \n",
              "1                1  \n",
              "2                1  \n",
              "3                1  \n",
              "4                1  \n",
              "...            ...  \n",
              "37433            1  \n",
              "37434            1  \n",
              "37435            1  \n",
              "37436            1  \n",
              "37437            0  \n",
              "\n",
              "[37438 rows x 13 columns]"
            ],
            "text/html": [
              "\n",
              "  <div id=\"df-8d1d6bac-31eb-4b3f-94a2-34af6cac9f8b\">\n",
              "    <div class=\"colab-df-container\">\n",
              "      <div>\n",
              "<style scoped>\n",
              "    .dataframe tbody tr th:only-of-type {\n",
              "        vertical-align: middle;\n",
              "    }\n",
              "\n",
              "    .dataframe tbody tr th {\n",
              "        vertical-align: top;\n",
              "    }\n",
              "\n",
              "    .dataframe thead th {\n",
              "        text-align: right;\n",
              "    }\n",
              "</style>\n",
              "<table border=\"1\" class=\"dataframe\">\n",
              "  <thead>\n",
              "    <tr style=\"text-align: right;\">\n",
              "      <th></th>\n",
              "      <th>default_profile</th>\n",
              "      <th>default_profile_image</th>\n",
              "      <th>favorites_count</th>\n",
              "      <th>followers_count</th>\n",
              "      <th>friends_count</th>\n",
              "      <th>geo_enabled</th>\n",
              "      <th>lang</th>\n",
              "      <th>location</th>\n",
              "      <th>statuses_count</th>\n",
              "      <th>verified</th>\n",
              "      <th>average_tweets_per_day</th>\n",
              "      <th>account_age_days</th>\n",
              "      <th>account_type</th>\n",
              "    </tr>\n",
              "  </thead>\n",
              "  <tbody>\n",
              "    <tr>\n",
              "      <th>0</th>\n",
              "      <td>0</td>\n",
              "      <td>0</td>\n",
              "      <td>4</td>\n",
              "      <td>1589</td>\n",
              "      <td>4</td>\n",
              "      <td>0</td>\n",
              "      <td>en</td>\n",
              "      <td>unknown</td>\n",
              "      <td>11041</td>\n",
              "      <td>0</td>\n",
              "      <td>7.87</td>\n",
              "      <td>1403</td>\n",
              "      <td>0</td>\n",
              "    </tr>\n",
              "    <tr>\n",
              "      <th>1</th>\n",
              "      <td>0</td>\n",
              "      <td>0</td>\n",
              "      <td>536</td>\n",
              "      <td>860</td>\n",
              "      <td>880</td>\n",
              "      <td>0</td>\n",
              "      <td>en</td>\n",
              "      <td>Estados Unidos</td>\n",
              "      <td>252</td>\n",
              "      <td>0</td>\n",
              "      <td>0.183</td>\n",
              "      <td>1379</td>\n",
              "      <td>1</td>\n",
              "    </tr>\n",
              "    <tr>\n",
              "      <th>2</th>\n",
              "      <td>0</td>\n",
              "      <td>0</td>\n",
              "      <td>3307</td>\n",
              "      <td>172</td>\n",
              "      <td>594</td>\n",
              "      <td>1</td>\n",
              "      <td>en</td>\n",
              "      <td>Los Angeles, CA</td>\n",
              "      <td>1001</td>\n",
              "      <td>0</td>\n",
              "      <td>0.864</td>\n",
              "      <td>1159</td>\n",
              "      <td>1</td>\n",
              "    </tr>\n",
              "    <tr>\n",
              "      <th>3</th>\n",
              "      <td>1</td>\n",
              "      <td>0</td>\n",
              "      <td>8433</td>\n",
              "      <td>517</td>\n",
              "      <td>633</td>\n",
              "      <td>1</td>\n",
              "      <td>en</td>\n",
              "      <td>Birmingham, AL</td>\n",
              "      <td>1324</td>\n",
              "      <td>0</td>\n",
              "      <td>0.889</td>\n",
              "      <td>1489</td>\n",
              "      <td>1</td>\n",
              "    </tr>\n",
              "    <tr>\n",
              "      <th>4</th>\n",
              "      <td>0</td>\n",
              "      <td>0</td>\n",
              "      <td>88</td>\n",
              "      <td>753678</td>\n",
              "      <td>116</td>\n",
              "      <td>1</td>\n",
              "      <td>en</td>\n",
              "      <td>England, United Kingdom</td>\n",
              "      <td>4202</td>\n",
              "      <td>1</td>\n",
              "      <td>1.339</td>\n",
              "      <td>3138</td>\n",
              "      <td>1</td>\n",
              "    </tr>\n",
              "    <tr>\n",
              "      <th>...</th>\n",
              "      <td>...</td>\n",
              "      <td>...</td>\n",
              "      <td>...</td>\n",
              "      <td>...</td>\n",
              "      <td>...</td>\n",
              "      <td>...</td>\n",
              "      <td>...</td>\n",
              "      <td>...</td>\n",
              "      <td>...</td>\n",
              "      <td>...</td>\n",
              "      <td>...</td>\n",
              "      <td>...</td>\n",
              "      <td>...</td>\n",
              "    </tr>\n",
              "    <tr>\n",
              "      <th>37433</th>\n",
              "      <td>1</td>\n",
              "      <td>0</td>\n",
              "      <td>651</td>\n",
              "      <td>139</td>\n",
              "      <td>1105</td>\n",
              "      <td>0</td>\n",
              "      <td>en</td>\n",
              "      <td>Kingston Upon Hull</td>\n",
              "      <td>340</td>\n",
              "      <td>0</td>\n",
              "      <td>0.084</td>\n",
              "      <td>4028</td>\n",
              "      <td>1</td>\n",
              "    </tr>\n",
              "    <tr>\n",
              "      <th>37434</th>\n",
              "      <td>0</td>\n",
              "      <td>0</td>\n",
              "      <td>8839</td>\n",
              "      <td>1121486</td>\n",
              "      <td>605</td>\n",
              "      <td>1</td>\n",
              "      <td>en</td>\n",
              "      <td>unknown</td>\n",
              "      <td>24970</td>\n",
              "      <td>1</td>\n",
              "      <td>8.976</td>\n",
              "      <td>2782</td>\n",
              "      <td>1</td>\n",
              "    </tr>\n",
              "    <tr>\n",
              "      <th>37435</th>\n",
              "      <td>1</td>\n",
              "      <td>0</td>\n",
              "      <td>399</td>\n",
              "      <td>85630</td>\n",
              "      <td>190</td>\n",
              "      <td>0</td>\n",
              "      <td>it</td>\n",
              "      <td>En constante movimiento</td>\n",
              "      <td>6174</td>\n",
              "      <td>1</td>\n",
              "      <td>2.226</td>\n",
              "      <td>2773</td>\n",
              "      <td>1</td>\n",
              "    </tr>\n",
              "    <tr>\n",
              "      <th>37436</th>\n",
              "      <td>0</td>\n",
              "      <td>0</td>\n",
              "      <td>967</td>\n",
              "      <td>138</td>\n",
              "      <td>166</td>\n",
              "      <td>1</td>\n",
              "      <td>en</td>\n",
              "      <td>Los Angeles, CA</td>\n",
              "      <td>982</td>\n",
              "      <td>0</td>\n",
              "      <td>0.339</td>\n",
              "      <td>2899</td>\n",
              "      <td>1</td>\n",
              "    </tr>\n",
              "    <tr>\n",
              "      <th>37437</th>\n",
              "      <td>0</td>\n",
              "      <td>0</td>\n",
              "      <td>1092</td>\n",
              "      <td>5</td>\n",
              "      <td>39</td>\n",
              "      <td>0</td>\n",
              "      <td>zh-cn</td>\n",
              "      <td>中国</td>\n",
              "      <td>1563</td>\n",
              "      <td>0</td>\n",
              "      <td>0.493</td>\n",
              "      <td>3172</td>\n",
              "      <td>0</td>\n",
              "    </tr>\n",
              "  </tbody>\n",
              "</table>\n",
              "<p>37438 rows × 13 columns</p>\n",
              "</div>\n",
              "      <button class=\"colab-df-convert\" onclick=\"convertToInteractive('df-8d1d6bac-31eb-4b3f-94a2-34af6cac9f8b')\"\n",
              "              title=\"Convert this dataframe to an interactive table.\"\n",
              "              style=\"display:none;\">\n",
              "        \n",
              "  <svg xmlns=\"http://www.w3.org/2000/svg\" height=\"24px\"viewBox=\"0 0 24 24\"\n",
              "       width=\"24px\">\n",
              "    <path d=\"M0 0h24v24H0V0z\" fill=\"none\"/>\n",
              "    <path d=\"M18.56 5.44l.94 2.06.94-2.06 2.06-.94-2.06-.94-.94-2.06-.94 2.06-2.06.94zm-11 1L8.5 8.5l.94-2.06 2.06-.94-2.06-.94L8.5 2.5l-.94 2.06-2.06.94zm10 10l.94 2.06.94-2.06 2.06-.94-2.06-.94-.94-2.06-.94 2.06-2.06.94z\"/><path d=\"M17.41 7.96l-1.37-1.37c-.4-.4-.92-.59-1.43-.59-.52 0-1.04.2-1.43.59L10.3 9.45l-7.72 7.72c-.78.78-.78 2.05 0 2.83L4 21.41c.39.39.9.59 1.41.59.51 0 1.02-.2 1.41-.59l7.78-7.78 2.81-2.81c.8-.78.8-2.07 0-2.86zM5.41 20L4 18.59l7.72-7.72 1.47 1.35L5.41 20z\"/>\n",
              "  </svg>\n",
              "      </button>\n",
              "      \n",
              "  <style>\n",
              "    .colab-df-container {\n",
              "      display:flex;\n",
              "      flex-wrap:wrap;\n",
              "      gap: 12px;\n",
              "    }\n",
              "\n",
              "    .colab-df-convert {\n",
              "      background-color: #E8F0FE;\n",
              "      border: none;\n",
              "      border-radius: 50%;\n",
              "      cursor: pointer;\n",
              "      display: none;\n",
              "      fill: #1967D2;\n",
              "      height: 32px;\n",
              "      padding: 0 0 0 0;\n",
              "      width: 32px;\n",
              "    }\n",
              "\n",
              "    .colab-df-convert:hover {\n",
              "      background-color: #E2EBFA;\n",
              "      box-shadow: 0px 1px 2px rgba(60, 64, 67, 0.3), 0px 1px 3px 1px rgba(60, 64, 67, 0.15);\n",
              "      fill: #174EA6;\n",
              "    }\n",
              "\n",
              "    [theme=dark] .colab-df-convert {\n",
              "      background-color: #3B4455;\n",
              "      fill: #D2E3FC;\n",
              "    }\n",
              "\n",
              "    [theme=dark] .colab-df-convert:hover {\n",
              "      background-color: #434B5C;\n",
              "      box-shadow: 0px 1px 3px 1px rgba(0, 0, 0, 0.15);\n",
              "      filter: drop-shadow(0px 1px 2px rgba(0, 0, 0, 0.3));\n",
              "      fill: #FFFFFF;\n",
              "    }\n",
              "  </style>\n",
              "\n",
              "      <script>\n",
              "        const buttonEl =\n",
              "          document.querySelector('#df-8d1d6bac-31eb-4b3f-94a2-34af6cac9f8b button.colab-df-convert');\n",
              "        buttonEl.style.display =\n",
              "          google.colab.kernel.accessAllowed ? 'block' : 'none';\n",
              "\n",
              "        async function convertToInteractive(key) {\n",
              "          const element = document.querySelector('#df-8d1d6bac-31eb-4b3f-94a2-34af6cac9f8b');\n",
              "          const dataTable =\n",
              "            await google.colab.kernel.invokeFunction('convertToInteractive',\n",
              "                                                     [key], {});\n",
              "          if (!dataTable) return;\n",
              "\n",
              "          const docLinkHtml = 'Like what you see? Visit the ' +\n",
              "            '<a target=\"_blank\" href=https://colab.research.google.com/notebooks/data_table.ipynb>data table notebook</a>'\n",
              "            + ' to learn more about interactive tables.';\n",
              "          element.innerHTML = '';\n",
              "          dataTable['output_type'] = 'display_data';\n",
              "          await google.colab.output.renderOutput(dataTable, element);\n",
              "          const docLink = document.createElement('div');\n",
              "          docLink.innerHTML = docLinkHtml;\n",
              "          element.appendChild(docLink);\n",
              "        }\n",
              "      </script>\n",
              "    </div>\n",
              "  </div>\n",
              "  "
            ]
          },
          "metadata": {},
          "execution_count": 122
        }
      ],
      "source": [
        "imp_miss_df"
      ]
    },
    {
      "cell_type": "code",
      "execution_count": 123,
      "metadata": {
        "colab": {
          "base_uri": "https://localhost:8080/"
        },
        "id": "XlKXA0kLWGPU",
        "outputId": "e6815ee1-4962-4b4c-98d5-fe29f71e7963"
      },
      "outputs": [
        {
          "output_type": "execute_result",
          "data": {
            "text/plain": [
              "default_profile           0\n",
              "default_profile_image     0\n",
              "favorites_count           0\n",
              "followers_count           0\n",
              "friends_count             0\n",
              "geo_enabled               0\n",
              "lang                      0\n",
              "location                  0\n",
              "statuses_count            0\n",
              "verified                  0\n",
              "average_tweets_per_day    0\n",
              "account_age_days          0\n",
              "account_type              0\n",
              "dtype: int64"
            ]
          },
          "metadata": {},
          "execution_count": 123
        }
      ],
      "source": [
        "imp_miss_df.isnull().sum()"
      ]
    },
    {
      "cell_type": "code",
      "execution_count": 124,
      "metadata": {
        "colab": {
          "base_uri": "https://localhost:8080/"
        },
        "id": "boheorbZYoHV",
        "outputId": "8f81dd6b-a804-4923-9e0e-77dddf6f8845"
      },
      "outputs": [
        {
          "output_type": "execute_result",
          "data": {
            "text/plain": [
              "default_profile           object\n",
              "default_profile_image     object\n",
              "favorites_count           object\n",
              "followers_count           object\n",
              "friends_count             object\n",
              "geo_enabled               object\n",
              "lang                      object\n",
              "location                  object\n",
              "statuses_count            object\n",
              "verified                  object\n",
              "average_tweets_per_day    object\n",
              "account_age_days          object\n",
              "account_type              object\n",
              "dtype: object"
            ]
          },
          "metadata": {},
          "execution_count": 124
        }
      ],
      "source": [
        "imp_miss_df.dtypes"
      ]
    },
    {
      "cell_type": "code",
      "source": [
        "for c in imp_miss_df:\n",
        "  if c not in [\"lang\",\"location\"]:\n",
        "    imp_miss_df[c] = imp_miss_df[c].astype(int)"
      ],
      "metadata": {
        "id": "fB3OMGWkUWX2"
      },
      "execution_count": 125,
      "outputs": []
    },
    {
      "cell_type": "code",
      "execution_count": 126,
      "metadata": {
        "id": "MiZCG7tHXv4M"
      },
      "outputs": [],
      "source": [
        "features_miss_imp = imp_miss_df.drop(\"account_type\", axis = 1)\n",
        "labels_miss_imp = imp_miss_df['account_type']"
      ]
    },
    {
      "cell_type": "markdown",
      "metadata": {
        "id": "mqRdxpycr9OW"
      },
      "source": [
        "#Encoding Categorical Features\n",
        "Given that we have only 13 given features, a dimension reduction does not seem necessary to have models run in a reasonable amount of time. I tried to encode the categorical data in \"lang\" and \"location\". Since there is such high cardinality in both, hot one encoding is not feasible, So I tried both Binary and Target encoding."
      ]
    },
    {
      "cell_type": "code",
      "source": [
        "df_1 = imp_miss_df.copy()"
      ],
      "metadata": {
        "id": "3rGeI_M0Zbpd"
      },
      "execution_count": 132,
      "outputs": []
    },
    {
      "cell_type": "markdown",
      "metadata": {
        "id": "AaQWZfZLlcfQ"
      },
      "source": [
        "##Binary Encoding \n",
        "Binary encoding first uses and ordinal encoder to convert it into numeric data and then these numbers are transformed into a binary number. This is memory effecient and works well with features that have a high cardinality while also creatinf less features than one-hot encoding."
      ]
    },
    {
      "cell_type": "code",
      "execution_count": 128,
      "metadata": {
        "id": "oLnTqLeolfk9"
      },
      "outputs": [],
      "source": [
        "encoder= ce.BinaryEncoder(cols=['location','lang'],return_df=True)\n",
        "                                               "
      ]
    },
    {
      "cell_type": "code",
      "execution_count": null,
      "metadata": {
        "id": "PN2wG1K6l3Ho"
      },
      "outputs": [],
      "source": [
        "df=encoder.fit_transform(df_1) \n",
        "df"
      ]
    },
    {
      "cell_type": "markdown",
      "metadata": {
        "id": "qbj1q9Bw6Clj"
      },
      "source": [
        "##Target Encoding\n",
        "With target encoding we calculate the mean value of the label for each category $P(label, category_{i}$) where label $\\in$ (0,1). It then replaces the categorical variable with the posterior probability of the label(target). It is important to note that this method falls prey to unevenly distributed data in terms of the present categories in the feature. "
      ]
    },
    {
      "cell_type": "code",
      "execution_count": 136,
      "metadata": {
        "id": "Rdes5VsD2Ooy"
      },
      "outputs": [],
      "source": [
        "encoder = ce.TargetEncoder()\n",
        "df_1[\"Location Encoded\"] = encoder.fit_transform(df_1['location'], df_1['account_type'])\n",
        "encoder = ce.TargetEncoder()\n",
        "df_1[\"Lang Encoded\"] = encoder.fit_transform(df_1['lang'], df_1['account_type']) \n",
        "\n",
        "# data_df[\"Lang Encoded\"] = encoder.fit_transform(data_df['lang'], data_df['account_type'])     "
      ]
    },
    {
      "cell_type": "code",
      "execution_count": 137,
      "metadata": {
        "id": "n3gvjES95jph"
      },
      "outputs": [],
      "source": [
        "df_1.drop([\"location\", \"lang\"], axis =1, inplace = True)"
      ]
    },
    {
      "cell_type": "code",
      "execution_count": null,
      "metadata": {
        "id": "cKvFo9QR5TM-"
      },
      "outputs": [],
      "source": [
        "df.columns"
      ]
    },
    {
      "cell_type": "code",
      "source": [
        "df = df_1.copy()"
      ],
      "metadata": {
        "id": "kn9iUctEUWM0"
      },
      "execution_count": 138,
      "outputs": []
    },
    {
      "cell_type": "markdown",
      "source": [
        "##split the data into features and labels to use in models later \n",
        "depedending on which encoding scheme chosen, save the feature and labels to use later for modeling"
      ],
      "metadata": {
        "id": "4SgnONt7Zpmi"
      }
    },
    {
      "cell_type": "code",
      "execution_count": 139,
      "metadata": {
        "id": "Pmck1_4q6i4r"
      },
      "outputs": [],
      "source": [
        "features_enc = df.drop(\"account_type\", axis = 1)\n",
        "labels_enc = df['account_type']"
      ]
    },
    {
      "cell_type": "markdown",
      "metadata": {
        "id": "XKf7ye3dYH8p"
      },
      "source": [
        "#Dealing with Class Imbalance: Sampling\n",
        "The data provided as a moderate class imbalance so I will implement both under and over sampling on the trainning dataset to correct this. "
      ]
    },
    {
      "cell_type": "markdown",
      "source": [
        "balancing raw data with no categorical features"
      ],
      "metadata": {
        "id": "HpCk6Y2ncVTI"
      }
    },
    {
      "cell_type": "code",
      "source": [
        "df = data_df.drop(['location', 'lang'], axis = 1)"
      ],
      "metadata": {
        "id": "FCDUI6CVbr5s"
      },
      "execution_count": 146,
      "outputs": []
    },
    {
      "cell_type": "code",
      "execution_count": 147,
      "metadata": {
        "id": "o87Ae8cad9Wm"
      },
      "outputs": [],
      "source": [
        "features = df.drop(\"account_type\", axis = 1)\n",
        "labels = df[\"account_type\"]\n",
        "X_train, X_test, y_train, y_test = train_test_split(features, labels, test_size=0.2, random_state=42)"
      ]
    },
    {
      "cell_type": "markdown",
      "source": [
        "Imputed and Encoded data "
      ],
      "metadata": {
        "id": "JAi_yzXVbk3V"
      }
    },
    {
      "cell_type": "code",
      "source": [
        "X_train, X_test, y_train, y_test = train_test_split(features_enc, labels_enc, test_size=0.2, random_state=42)"
      ],
      "metadata": {
        "id": "gekoyQyLbfF7"
      },
      "execution_count": 148,
      "outputs": []
    },
    {
      "cell_type": "markdown",
      "source": [
        "##Undersampling\n",
        "Undersampling removes datapoints form the majority class (\"human\") so that the number of datapoints with each label is equal"
      ],
      "metadata": {
        "id": "uLBF350-cdaP"
      }
    },
    {
      "cell_type": "code",
      "execution_count": 149,
      "metadata": {
        "id": "MwnlDN_DFVb-"
      },
      "outputs": [],
      "source": [
        "rus = RandomUnderSampler(random_state=42, replacement=True)# fit predictor and target variable\n",
        "x_rus, y_rus = rus.fit_resample(X_train, y_train)"
      ]
    },
    {
      "cell_type": "markdown",
      "source": [
        "##Oversampling\n",
        "Oversampling duplicates datapoints form the minority class (\"bot\") so that the number of datapoints with each label is equal"
      ],
      "metadata": {
        "id": "6pn0FvRicjA6"
      }
    },
    {
      "cell_type": "code",
      "execution_count": 150,
      "metadata": {
        "id": "fnApEV94I7p5"
      },
      "outputs": [],
      "source": [
        "ros = RandomOverSampler(random_state=42)# fit predictor and target variable\n",
        "x_ros, y_ros = ros.fit_resample(X_train, y_train)"
      ]
    },
    {
      "cell_type": "markdown",
      "metadata": {
        "id": "PH5C4xxvJI2p"
      },
      "source": [
        "#Model Selection"
      ]
    },
    {
      "cell_type": "markdown",
      "metadata": {
        "id": "kiaAKAYusXfd"
      },
      "source": [
        "First, we train our models on the complete raw datasets without the categorical data (which also contains all the missing values). \\\\\n",
        "Throughout all the different models I will be training, I will use Accuracy, F1 score, and AUCROC metrics to evaluate the models' performances. We use more than just the Accuracy to determine our model's performance because we have a class imbalance (although it is only moderate). The F1 score provides a single statistic that combines the precision(#of positive predictions that have positive labels) and recall(TPR)of the model. This is a helpful statistic because a model can have very high accuracy due to a class imbalance in the available data but that does not mean it is a good model. We would like this value to be as close to 1 as possible.\n",
        "The AUCROC metric explains how well the model distinguishes the two classes. It measures the area under the curve by plotting the TPR(sensitivity) against the FPR(1-TNR). The close to 1 this metric is, the better the model is at distinguishing the classes. \\\\\n",
        "\n",
        "I also trained a range of models with different complexity from a simple logistic regression model to a small KNN to see how complicated the necessary model should be to deal with the data. Intuitively I am thinking Random Forrest Classifier will perform best due to its ability to work with class imbalance better and also it is a bit more complex than a Logistic regression model but not as complicated as a KNN, so it seems to me it will be in the sweet spot. "
      ]
    },
    {
      "cell_type": "code",
      "execution_count": 153,
      "metadata": {
        "id": "o3Q0GR0yJIYY"
      },
      "outputs": [],
      "source": [
        "d_df = data_df.drop([\"location\", \"lang\"], axis =1)"
      ]
    },
    {
      "cell_type": "code",
      "execution_count": null,
      "metadata": {
        "id": "OFDiHiV_JXUa"
      },
      "outputs": [],
      "source": [
        "d_df.dtypes"
      ]
    },
    {
      "cell_type": "code",
      "execution_count": 154,
      "metadata": {
        "id": "gu5TX8LCKmXc"
      },
      "outputs": [],
      "source": [
        "features = d_df.drop(\"account_type\", axis = 1)\n",
        "labels = d_df['account_type']\n",
        "X_train, X_test, y_train, y_test = train_test_split(features, labels, test_size=0.2, random_state=42)"
      ]
    },
    {
      "cell_type": "markdown",
      "source": [
        "## Naive Bayes"
      ],
      "metadata": {
        "id": "MVNTnuQkfYmq"
      }
    },
    {
      "cell_type": "code",
      "source": [
        "nb = GaussianNB()\n",
        "\n",
        "nb.fit(X_train, y_train)\n",
        "train = nb.predict(X_train)\n",
        "pred = nb.predict(X_test)\n",
        "\n",
        "print(\"Training Metrics\")\n",
        "print('ROCAUC score:',roc_auc_score(y_train, train))\n",
        "print('Accuracy score:',accuracy_score(y_train, train))\n",
        "print('F1 score:',f1_score(y_train, train))\n",
        "print(\"Testing Metrics\")\n",
        "print('ROCAUC score:',roc_auc_score(y_test, pred))\n",
        "print('Accuracy score:',accuracy_score(y_test, pred))\n",
        "print('F1 score:',f1_score(y_test, pred))"
      ],
      "metadata": {
        "colab": {
          "base_uri": "https://localhost:8080/"
        },
        "id": "nED1aiKMfakG",
        "outputId": "b989fa8e-5d61-4a78-e512-093d126f68d9"
      },
      "execution_count": 34,
      "outputs": [
        {
          "output_type": "stream",
          "name": "stdout",
          "text": [
            "Training Metrics\n",
            "ROCAUC score: 0.7218611477508746\n",
            "Accuracy score: 0.7376961602671118\n",
            "F1 score: 0.7966452681714641\n",
            "Testing Metrics\n",
            "ROCAUC score: 0.7277750722473117\n",
            "Accuracy score: 0.7457264957264957\n",
            "F1 score: 0.8040749125334432\n"
          ]
        }
      ]
    },
    {
      "cell_type": "markdown",
      "metadata": {
        "id": "x5HQ69nnyUHK"
      },
      "source": [
        "##Logisitic Regression\n"
      ]
    },
    {
      "cell_type": "code",
      "execution_count": 35,
      "metadata": {
        "colab": {
          "base_uri": "https://localhost:8080/"
        },
        "id": "X0wQb7RjJ7RB",
        "outputId": "354ecda9-372a-4ca0-fa87-98aea68332e1"
      },
      "outputs": [
        {
          "output_type": "stream",
          "name": "stdout",
          "text": [
            "Training Metrics\n",
            "ROCAUC score: 0.7090616529659584\n",
            "Accuracy score: 0.7559265442404006\n",
            "F1 score: 0.8228565889594339\n",
            "Testing Metrics\n",
            "ROCAUC score: 0.7112917585361095\n",
            "Accuracy score: 0.7593482905982906\n",
            "F1 score: 0.8258600695786625\n"
          ]
        }
      ],
      "source": [
        "lr = LogisticRegression()\n",
        "\n",
        "lr.fit(X_train, y_train)\n",
        "train = lr.predict(X_train)\n",
        "pred = lr.predict(X_test)\n",
        "\n",
        "print(\"Training Metrics\")\n",
        "print('ROCAUC score:',roc_auc_score(y_train, train))\n",
        "print('Accuracy score:',accuracy_score(y_train, train))\n",
        "print('F1 score:',f1_score(y_train, train))\n",
        "print(\"Testing Metrics\")\n",
        "print('ROCAUC score:',roc_auc_score(y_test, pred))\n",
        "print('Accuracy score:',accuracy_score(y_test, pred))\n",
        "print('F1 score:',f1_score(y_test, pred))"
      ]
    },
    {
      "cell_type": "code",
      "execution_count": 33,
      "metadata": {
        "colab": {
          "base_uri": "https://localhost:8080/",
          "height": 483
        },
        "id": "6PMNh5czL6YV",
        "outputId": "a00f2362-a263-48d8-b5ae-0578c5c59279"
      },
      "outputs": [
        {
          "output_type": "display_data",
          "data": {
            "text/plain": [
              "<Figure size 576x576 with 1 Axes>"
            ],
            "image/png": "[encoded data removed]"
          },
          "metadata": {
            "needs_background": "light"
          }
        }
      ],
      "source": [
        "cm = confusion_matrix(y_test, lr.predict(X_test))\n",
        "\n",
        "fig, ax = plt.subplots(figsize=(8, 8))\n",
        "ax.imshow(cm)\n",
        "ax.grid(False)\n",
        "ax.xaxis.set(ticks=(0, 1), ticklabels=('Predicted 0s', 'Predicted 1s'))\n",
        "ax.yaxis.set(ticks=(0, 1), ticklabels=('Actual 0s', 'Actual 1s'))\n",
        "ax.set_ylim(1.5, -0.5)\n",
        "for i in range(2):\n",
        "    for j in range(2):\n",
        "        ax.text(j, i, cm[i, j], ha='center', va='center', color='red')\n",
        "plt.show()"
      ]
    },
    {
      "cell_type": "markdown",
      "metadata": {
        "id": "9_1oDYzhYUjM"
      },
      "source": [
        "##Random Forest Classifier\n",
        "\n"
      ]
    },
    {
      "cell_type": "code",
      "execution_count": 39,
      "metadata": {
        "colab": {
          "base_uri": "https://localhost:8080/"
        },
        "id": "4Fq2maxGYUNF",
        "outputId": "ef912739-08fd-4335-edf3-c140bcbe2e92"
      },
      "outputs": [
        {
          "output_type": "stream",
          "name": "stdout",
          "text": [
            "Training Metrics\n",
            "ROCAUC score: 0.9999496880660093\n",
            "Accuracy score: 0.9999666110183639\n",
            "F1 score: 0.9999750156152405\n",
            "Testing Metrics\n",
            "ROCAUC score: 0.8467770860785624\n",
            "Accuracy score: 0.8766025641025641\n",
            "F1 score: 0.9101342151332426\n"
          ]
        }
      ],
      "source": [
        "rfc = RandomForestClassifier()\n",
        "\n",
        "rfc.fit(X_train, y_train)\n",
        "train = rfc.predict(X_train)\n",
        "pred = rfc.predict(X_test)\n",
        "\n",
        "print(\"Training Metrics\")\n",
        "print('ROCAUC score:',roc_auc_score(y_train, train))\n",
        "print('Accuracy score:',accuracy_score(y_train, train))\n",
        "print('F1 score:',f1_score(y_train, train))\n",
        "print(\"Testing Metrics\")\n",
        "print('ROCAUC score:',roc_auc_score(y_test, pred))\n",
        "print('Accuracy score:',accuracy_score(y_test, pred))\n",
        "print('F1 score:',f1_score(y_test, pred))"
      ]
    },
    {
      "cell_type": "code",
      "execution_count": 35,
      "metadata": {
        "id": "FlWnTnDJ0Vas",
        "colab": {
          "base_uri": "https://localhost:8080/",
          "height": 483
        },
        "outputId": "e3fb8287-1046-430e-c41d-4a18a80a1086"
      },
      "outputs": [
        {
          "output_type": "display_data",
          "data": {
            "text/plain": [
              "<Figure size 576x576 with 1 Axes>"
            ],
            "image/png": "[encoded data removed]"
          },
          "metadata": {
            "needs_background": "light"
          }
        }
      ],
      "source": [
        "cm = confusion_matrix(y_test, rfc.predict(X_test))\n",
        "\n",
        "fig, ax = plt.subplots(figsize=(8, 8))\n",
        "ax.imshow(cm)\n",
        "ax.grid(False)\n",
        "ax.xaxis.set(ticks=(0, 1), ticklabels=('Predicted 0s', 'Predicted 1s'))\n",
        "ax.yaxis.set(ticks=(0, 1), ticklabels=('Actual 0s', 'Actual 1s'))\n",
        "ax.set_ylim(1.5, -0.5)\n",
        "for i in range(2):\n",
        "    for j in range(2):\n",
        "        ax.text(j, i, cm[i, j], ha='center', va='center', color='red')\n",
        "plt.show()"
      ]
    },
    {
      "cell_type": "markdown",
      "metadata": {
        "id": "q-4CwXaBKBlH"
      },
      "source": [
        "##KNN\n",
        "\n",
        "\n",
        "Nearest neighbors are known to perform better with scaling the data. So I implemented both standardization and normalization on the raw data before training the model to see which one provides better results. I scale the train and test sets differently so that we make sure no information about the test data points is kept in the training data. "
      ]
    },
    {
      "cell_type": "code",
      "execution_count": 31,
      "metadata": {
        "id": "g-ZmGEh3Kjbl"
      },
      "outputs": [],
      "source": [
        "dknn_df = data_df.drop([\"location\",\"lang\"], axis =1)"
      ]
    },
    {
      "cell_type": "code",
      "source": [
        "dknn_df"
      ],
      "metadata": {
        "colab": {
          "base_uri": "https://localhost:8080/",
          "height": 488
        },
        "id": "mTf9cwJX6RfR",
        "outputId": "57b10d9b-ddcc-4ca5-cf58-e830f553b889"
      },
      "execution_count": 40,
      "outputs": [
        {
          "output_type": "execute_result",
          "data": {
            "text/plain": [
              "       default_profile  default_profile_image  favorites_count  \\\n",
              "0                    0                      0                4   \n",
              "1                    0                      0              536   \n",
              "2                    0                      0             3307   \n",
              "3                    1                      0             8433   \n",
              "4                    0                      0               88   \n",
              "...                ...                    ...              ...   \n",
              "37433                1                      0              651   \n",
              "37434                0                      0             8839   \n",
              "37435                1                      0              399   \n",
              "37436                0                      0              967   \n",
              "37437                0                      0             1092   \n",
              "\n",
              "       followers_count  friends_count  geo_enabled  statuses_count  verified  \\\n",
              "0                 1589              4            0           11041         0   \n",
              "1                  860            880            0             252         0   \n",
              "2                  172            594            1            1001         0   \n",
              "3                  517            633            1            1324         0   \n",
              "4               753678            116            1            4202         1   \n",
              "...                ...            ...          ...             ...       ...   \n",
              "37433              139           1105            0             340         0   \n",
              "37434          1121486            605            1           24970         1   \n",
              "37435            85630            190            0            6174         1   \n",
              "37436              138            166            1             982         0   \n",
              "37437                5             39            0            1563         0   \n",
              "\n",
              "       average_tweets_per_day  account_age_days  account_type  \n",
              "0                       7.870              1403             0  \n",
              "1                       0.183              1379             1  \n",
              "2                       0.864              1159             1  \n",
              "3                       0.889              1489             1  \n",
              "4                       1.339              3138             1  \n",
              "...                       ...               ...           ...  \n",
              "37433                   0.084              4028             1  \n",
              "37434                   8.976              2782             1  \n",
              "37435                   2.226              2773             1  \n",
              "37436                   0.339              2899             1  \n",
              "37437                   0.493              3172             0  \n",
              "\n",
              "[37438 rows x 11 columns]"
            ],
            "text/html": [
              "\n",
              "  <div id=\"df-3cc938a3-4328-45a6-831f-37d0685973f4\">\n",
              "    <div class=\"colab-df-container\">\n",
              "      <div>\n",
              "<style scoped>\n",
              "    .dataframe tbody tr th:only-of-type {\n",
              "        vertical-align: middle;\n",
              "    }\n",
              "\n",
              "    .dataframe tbody tr th {\n",
              "        vertical-align: top;\n",
              "    }\n",
              "\n",
              "    .dataframe thead th {\n",
              "        text-align: right;\n",
              "    }\n",
              "</style>\n",
              "<table border=\"1\" class=\"dataframe\">\n",
              "  <thead>\n",
              "    <tr style=\"text-align: right;\">\n",
              "      <th></th>\n",
              "      <th>default_profile</th>\n",
              "      <th>default_profile_image</th>\n",
              "      <th>favorites_count</th>\n",
              "      <th>followers_count</th>\n",
              "      <th>friends_count</th>\n",
              "      <th>geo_enabled</th>\n",
              "      <th>statuses_count</th>\n",
              "      <th>verified</th>\n",
              "      <th>average_tweets_per_day</th>\n",
              "      <th>account_age_days</th>\n",
              "      <th>account_type</th>\n",
              "    </tr>\n",
              "  </thead>\n",
              "  <tbody>\n",
              "    <tr>\n",
              "      <th>0</th>\n",
              "      <td>0</td>\n",
              "      <td>0</td>\n",
              "      <td>4</td>\n",
              "      <td>1589</td>\n",
              "      <td>4</td>\n",
              "      <td>0</td>\n",
              "      <td>11041</td>\n",
              "      <td>0</td>\n",
              "      <td>7.870</td>\n",
              "      <td>1403</td>\n",
              "      <td>0</td>\n",
              "    </tr>\n",
              "    <tr>\n",
              "      <th>1</th>\n",
              "      <td>0</td>\n",
              "      <td>0</td>\n",
              "      <td>536</td>\n",
              "      <td>860</td>\n",
              "      <td>880</td>\n",
              "      <td>0</td>\n",
              "      <td>252</td>\n",
              "      <td>0</td>\n",
              "      <td>0.183</td>\n",
              "      <td>1379</td>\n",
              "      <td>1</td>\n",
              "    </tr>\n",
              "    <tr>\n",
              "      <th>2</th>\n",
              "      <td>0</td>\n",
              "      <td>0</td>\n",
              "      <td>3307</td>\n",
              "      <td>172</td>\n",
              "      <td>594</td>\n",
              "      <td>1</td>\n",
              "      <td>1001</td>\n",
              "      <td>0</td>\n",
              "      <td>0.864</td>\n",
              "      <td>1159</td>\n",
              "      <td>1</td>\n",
              "    </tr>\n",
              "    <tr>\n",
              "      <th>3</th>\n",
              "      <td>1</td>\n",
              "      <td>0</td>\n",
              "      <td>8433</td>\n",
              "      <td>517</td>\n",
              "      <td>633</td>\n",
              "      <td>1</td>\n",
              "      <td>1324</td>\n",
              "      <td>0</td>\n",
              "      <td>0.889</td>\n",
              "      <td>1489</td>\n",
              "      <td>1</td>\n",
              "    </tr>\n",
              "    <tr>\n",
              "      <th>4</th>\n",
              "      <td>0</td>\n",
              "      <td>0</td>\n",
              "      <td>88</td>\n",
              "      <td>753678</td>\n",
              "      <td>116</td>\n",
              "      <td>1</td>\n",
              "      <td>4202</td>\n",
              "      <td>1</td>\n",
              "      <td>1.339</td>\n",
              "      <td>3138</td>\n",
              "      <td>1</td>\n",
              "    </tr>\n",
              "    <tr>\n",
              "      <th>...</th>\n",
              "      <td>...</td>\n",
              "      <td>...</td>\n",
              "      <td>...</td>\n",
              "      <td>...</td>\n",
              "      <td>...</td>\n",
              "      <td>...</td>\n",
              "      <td>...</td>\n",
              "      <td>...</td>\n",
              "      <td>...</td>\n",
              "      <td>...</td>\n",
              "      <td>...</td>\n",
              "    </tr>\n",
              "    <tr>\n",
              "      <th>37433</th>\n",
              "      <td>1</td>\n",
              "      <td>0</td>\n",
              "      <td>651</td>\n",
              "      <td>139</td>\n",
              "      <td>1105</td>\n",
              "      <td>0</td>\n",
              "      <td>340</td>\n",
              "      <td>0</td>\n",
              "      <td>0.084</td>\n",
              "      <td>4028</td>\n",
              "      <td>1</td>\n",
              "    </tr>\n",
              "    <tr>\n",
              "      <th>37434</th>\n",
              "      <td>0</td>\n",
              "      <td>0</td>\n",
              "      <td>8839</td>\n",
              "      <td>1121486</td>\n",
              "      <td>605</td>\n",
              "      <td>1</td>\n",
              "      <td>24970</td>\n",
              "      <td>1</td>\n",
              "      <td>8.976</td>\n",
              "      <td>2782</td>\n",
              "      <td>1</td>\n",
              "    </tr>\n",
              "    <tr>\n",
              "      <th>37435</th>\n",
              "      <td>1</td>\n",
              "      <td>0</td>\n",
              "      <td>399</td>\n",
              "      <td>85630</td>\n",
              "      <td>190</td>\n",
              "      <td>0</td>\n",
              "      <td>6174</td>\n",
              "      <td>1</td>\n",
              "      <td>2.226</td>\n",
              "      <td>2773</td>\n",
              "      <td>1</td>\n",
              "    </tr>\n",
              "    <tr>\n",
              "      <th>37436</th>\n",
              "      <td>0</td>\n",
              "      <td>0</td>\n",
              "      <td>967</td>\n",
              "      <td>138</td>\n",
              "      <td>166</td>\n",
              "      <td>1</td>\n",
              "      <td>982</td>\n",
              "      <td>0</td>\n",
              "      <td>0.339</td>\n",
              "      <td>2899</td>\n",
              "      <td>1</td>\n",
              "    </tr>\n",
              "    <tr>\n",
              "      <th>37437</th>\n",
              "      <td>0</td>\n",
              "      <td>0</td>\n",
              "      <td>1092</td>\n",
              "      <td>5</td>\n",
              "      <td>39</td>\n",
              "      <td>0</td>\n",
              "      <td>1563</td>\n",
              "      <td>0</td>\n",
              "      <td>0.493</td>\n",
              "      <td>3172</td>\n",
              "      <td>0</td>\n",
              "    </tr>\n",
              "  </tbody>\n",
              "</table>\n",
              "<p>37438 rows × 11 columns</p>\n",
              "</div>\n",
              "      <button class=\"colab-df-convert\" onclick=\"convertToInteractive('df-3cc938a3-4328-45a6-831f-37d0685973f4')\"\n",
              "              title=\"Convert this dataframe to an interactive table.\"\n",
              "              style=\"display:none;\">\n",
              "        \n",
              "  <svg xmlns=\"http://www.w3.org/2000/svg\" height=\"24px\"viewBox=\"0 0 24 24\"\n",
              "       width=\"24px\">\n",
              "    <path d=\"M0 0h24v24H0V0z\" fill=\"none\"/>\n",
              "    <path d=\"M18.56 5.44l.94 2.06.94-2.06 2.06-.94-2.06-.94-.94-2.06-.94 2.06-2.06.94zm-11 1L8.5 8.5l.94-2.06 2.06-.94-2.06-.94L8.5 2.5l-.94 2.06-2.06.94zm10 10l.94 2.06.94-2.06 2.06-.94-2.06-.94-.94-2.06-.94 2.06-2.06.94z\"/><path d=\"M17.41 7.96l-1.37-1.37c-.4-.4-.92-.59-1.43-.59-.52 0-1.04.2-1.43.59L10.3 9.45l-7.72 7.72c-.78.78-.78 2.05 0 2.83L4 21.41c.39.39.9.59 1.41.59.51 0 1.02-.2 1.41-.59l7.78-7.78 2.81-2.81c.8-.78.8-2.07 0-2.86zM5.41 20L4 18.59l7.72-7.72 1.47 1.35L5.41 20z\"/>\n",
              "  </svg>\n",
              "      </button>\n",
              "      \n",
              "  <style>\n",
              "    .colab-df-container {\n",
              "      display:flex;\n",
              "      flex-wrap:wrap;\n",
              "      gap: 12px;\n",
              "    }\n",
              "\n",
              "    .colab-df-convert {\n",
              "      background-color: #E8F0FE;\n",
              "      border: none;\n",
              "      border-radius: 50%;\n",
              "      cursor: pointer;\n",
              "      display: none;\n",
              "      fill: #1967D2;\n",
              "      height: 32px;\n",
              "      padding: 0 0 0 0;\n",
              "      width: 32px;\n",
              "    }\n",
              "\n",
              "    .colab-df-convert:hover {\n",
              "      background-color: #E2EBFA;\n",
              "      box-shadow: 0px 1px 2px rgba(60, 64, 67, 0.3), 0px 1px 3px 1px rgba(60, 64, 67, 0.15);\n",
              "      fill: #174EA6;\n",
              "    }\n",
              "\n",
              "    [theme=dark] .colab-df-convert {\n",
              "      background-color: #3B4455;\n",
              "      fill: #D2E3FC;\n",
              "    }\n",
              "\n",
              "    [theme=dark] .colab-df-convert:hover {\n",
              "      background-color: #434B5C;\n",
              "      box-shadow: 0px 1px 3px 1px rgba(0, 0, 0, 0.15);\n",
              "      filter: drop-shadow(0px 1px 2px rgba(0, 0, 0, 0.3));\n",
              "      fill: #FFFFFF;\n",
              "    }\n",
              "  </style>\n",
              "\n",
              "      <script>\n",
              "        const buttonEl =\n",
              "          document.querySelector('#df-3cc938a3-4328-45a6-831f-37d0685973f4 button.colab-df-convert');\n",
              "        buttonEl.style.display =\n",
              "          google.colab.kernel.accessAllowed ? 'block' : 'none';\n",
              "\n",
              "        async function convertToInteractive(key) {\n",
              "          const element = document.querySelector('#df-3cc938a3-4328-45a6-831f-37d0685973f4');\n",
              "          const dataTable =\n",
              "            await google.colab.kernel.invokeFunction('convertToInteractive',\n",
              "                                                     [key], {});\n",
              "          if (!dataTable) return;\n",
              "\n",
              "          const docLinkHtml = 'Like what you see? Visit the ' +\n",
              "            '<a target=\"_blank\" href=https://colab.research.google.com/notebooks/data_table.ipynb>data table notebook</a>'\n",
              "            + ' to learn more about interactive tables.';\n",
              "          element.innerHTML = '';\n",
              "          dataTable['output_type'] = 'display_data';\n",
              "          await google.colab.output.renderOutput(dataTable, element);\n",
              "          const docLink = document.createElement('div');\n",
              "          docLink.innerHTML = docLinkHtml;\n",
              "          element.appendChild(docLink);\n",
              "        }\n",
              "      </script>\n",
              "    </div>\n",
              "  </div>\n",
              "  "
            ]
          },
          "metadata": {},
          "execution_count": 40
        }
      ]
    },
    {
      "cell_type": "code",
      "execution_count": 32,
      "metadata": {
        "id": "c_SQrpk-KbV3"
      },
      "outputs": [],
      "source": [
        "features = dknn_df.drop(\"account_type\", axis = 1)\n",
        "labels = dknn_df['account_type']"
      ]
    },
    {
      "cell_type": "code",
      "execution_count": 48,
      "metadata": {
        "id": "AgWd30NaLA6b"
      },
      "outputs": [],
      "source": [
        "X_train, X_test, y_train, y_test = train_test_split(features, labels, test_size=0.2, random_state=42)"
      ]
    },
    {
      "cell_type": "code",
      "execution_count": 34,
      "metadata": {
        "id": "UMknsyOfKOOD"
      },
      "outputs": [],
      "source": [
        "norm = MinMaxScaler().fit(X_train)\n",
        "X_train_norm = norm.transform(X_train)\n",
        "X_test_norm = norm.transform(X_test)"
      ]
    },
    {
      "cell_type": "code",
      "execution_count": 35,
      "metadata": {
        "id": "TBaNIwLSLPGE"
      },
      "outputs": [],
      "source": [
        "X_train_stand = X_train.copy()\n",
        "X_test_stand = X_test.copy()\n",
        "\n",
        "cols = ['favorites_count','followers_count','friends_count','statuses_count','average_tweets_per_day','account_age_days']\n",
        "\n",
        "for c in cols:\n",
        "    scale = StandardScaler().fit(X_train_stand[[c]])\n",
        "    X_train_stand[c] = scale.transform(X_train_stand[[c]])\n",
        "    X_test_stand[c] = scale.transform(X_test_stand[[c]])"
      ]
    },
    {
      "cell_type": "code",
      "source": [
        "print(y_train)"
      ],
      "metadata": {
        "colab": {
          "base_uri": "https://localhost:8080/"
        },
        "id": "_Mow2hb662ti",
        "outputId": "a88f60f5-fd9c-406a-ecea-bd9902b426fd"
      },
      "execution_count": 43,
      "outputs": [
        {
          "output_type": "stream",
          "name": "stdout",
          "text": [
            "5514     1\n",
            "34577    1\n",
            "1406     1\n",
            "25609    0\n",
            "11216    1\n",
            "        ..\n",
            "16850    1\n",
            "6265     0\n",
            "11284    0\n",
            "860      1\n",
            "15795    1\n",
            "Name: account_type, Length: 29950, dtype: int64\n"
          ]
        }
      ]
    },
    {
      "cell_type": "code",
      "execution_count": 46,
      "metadata": {
        "colab": {
          "base_uri": "https://localhost:8080/",
          "height": 143
        },
        "id": "Ebyj70D_MGf6",
        "outputId": "92fd1506-d518-4c30-bb5e-d20498bdd7cf"
      },
      "outputs": [
        {
          "output_type": "execute_result",
          "data": {
            "text/plain": [
              "              Accuracy  F1 score    ROCAUC\n",
              "Original      0.848558  0.887344  0.826084\n",
              "Normalized    0.795673  0.844068  0.779317\n",
              "Standardized  0.822382  0.865221  0.806589"
            ],
            "text/html": [
              "\n",
              "  <div id=\"df-01b77aa6-58c7-4a00-b780-5d2f0baf58d5\">\n",
              "    <div class=\"colab-df-container\">\n",
              "      <div>\n",
              "<style scoped>\n",
              "    .dataframe tbody tr th:only-of-type {\n",
              "        vertical-align: middle;\n",
              "    }\n",
              "\n",
              "    .dataframe tbody tr th {\n",
              "        vertical-align: top;\n",
              "    }\n",
              "\n",
              "    .dataframe thead th {\n",
              "        text-align: right;\n",
              "    }\n",
              "</style>\n",
              "<table border=\"1\" class=\"dataframe\">\n",
              "  <thead>\n",
              "    <tr style=\"text-align: right;\">\n",
              "      <th></th>\n",
              "      <th>Accuracy</th>\n",
              "      <th>F1 score</th>\n",
              "      <th>ROCAUC</th>\n",
              "    </tr>\n",
              "  </thead>\n",
              "  <tbody>\n",
              "    <tr>\n",
              "      <th>Original</th>\n",
              "      <td>0.848558</td>\n",
              "      <td>0.887344</td>\n",
              "      <td>0.826084</td>\n",
              "    </tr>\n",
              "    <tr>\n",
              "      <th>Normalized</th>\n",
              "      <td>0.795673</td>\n",
              "      <td>0.844068</td>\n",
              "      <td>0.779317</td>\n",
              "    </tr>\n",
              "    <tr>\n",
              "      <th>Standardized</th>\n",
              "      <td>0.822382</td>\n",
              "      <td>0.865221</td>\n",
              "      <td>0.806589</td>\n",
              "    </tr>\n",
              "  </tbody>\n",
              "</table>\n",
              "</div>\n",
              "      <button class=\"colab-df-convert\" onclick=\"convertToInteractive('df-01b77aa6-58c7-4a00-b780-5d2f0baf58d5')\"\n",
              "              title=\"Convert this dataframe to an interactive table.\"\n",
              "              style=\"display:none;\">\n",
              "        \n",
              "  <svg xmlns=\"http://www.w3.org/2000/svg\" height=\"24px\"viewBox=\"0 0 24 24\"\n",
              "       width=\"24px\">\n",
              "    <path d=\"M0 0h24v24H0V0z\" fill=\"none\"/>\n",
              "    <path d=\"M18.56 5.44l.94 2.06.94-2.06 2.06-.94-2.06-.94-.94-2.06-.94 2.06-2.06.94zm-11 1L8.5 8.5l.94-2.06 2.06-.94-2.06-.94L8.5 2.5l-.94 2.06-2.06.94zm10 10l.94 2.06.94-2.06 2.06-.94-2.06-.94-.94-2.06-.94 2.06-2.06.94z\"/><path d=\"M17.41 7.96l-1.37-1.37c-.4-.4-.92-.59-1.43-.59-.52 0-1.04.2-1.43.59L10.3 9.45l-7.72 7.72c-.78.78-.78 2.05 0 2.83L4 21.41c.39.39.9.59 1.41.59.51 0 1.02-.2 1.41-.59l7.78-7.78 2.81-2.81c.8-.78.8-2.07 0-2.86zM5.41 20L4 18.59l7.72-7.72 1.47 1.35L5.41 20z\"/>\n",
              "  </svg>\n",
              "      </button>\n",
              "      \n",
              "  <style>\n",
              "    .colab-df-container {\n",
              "      display:flex;\n",
              "      flex-wrap:wrap;\n",
              "      gap: 12px;\n",
              "    }\n",
              "\n",
              "    .colab-df-convert {\n",
              "      background-color: #E8F0FE;\n",
              "      border: none;\n",
              "      border-radius: 50%;\n",
              "      cursor: pointer;\n",
              "      display: none;\n",
              "      fill: #1967D2;\n",
              "      height: 32px;\n",
              "      padding: 0 0 0 0;\n",
              "      width: 32px;\n",
              "    }\n",
              "\n",
              "    .colab-df-convert:hover {\n",
              "      background-color: #E2EBFA;\n",
              "      box-shadow: 0px 1px 2px rgba(60, 64, 67, 0.3), 0px 1px 3px 1px rgba(60, 64, 67, 0.15);\n",
              "      fill: #174EA6;\n",
              "    }\n",
              "\n",
              "    [theme=dark] .colab-df-convert {\n",
              "      background-color: #3B4455;\n",
              "      fill: #D2E3FC;\n",
              "    }\n",
              "\n",
              "    [theme=dark] .colab-df-convert:hover {\n",
              "      background-color: #434B5C;\n",
              "      box-shadow: 0px 1px 3px 1px rgba(0, 0, 0, 0.15);\n",
              "      filter: drop-shadow(0px 1px 2px rgba(0, 0, 0, 0.3));\n",
              "      fill: #FFFFFF;\n",
              "    }\n",
              "  </style>\n",
              "\n",
              "      <script>\n",
              "        const buttonEl =\n",
              "          document.querySelector('#df-01b77aa6-58c7-4a00-b780-5d2f0baf58d5 button.colab-df-convert');\n",
              "        buttonEl.style.display =\n",
              "          google.colab.kernel.accessAllowed ? 'block' : 'none';\n",
              "\n",
              "        async function convertToInteractive(key) {\n",
              "          const element = document.querySelector('#df-01b77aa6-58c7-4a00-b780-5d2f0baf58d5');\n",
              "          const dataTable =\n",
              "            await google.colab.kernel.invokeFunction('convertToInteractive',\n",
              "                                                     [key], {});\n",
              "          if (!dataTable) return;\n",
              "\n",
              "          const docLinkHtml = 'Like what you see? Visit the ' +\n",
              "            '<a target=\"_blank\" href=https://colab.research.google.com/notebooks/data_table.ipynb>data table notebook</a>'\n",
              "            + ' to learn more about interactive tables.';\n",
              "          element.innerHTML = '';\n",
              "          dataTable['output_type'] = 'display_data';\n",
              "          await google.colab.output.renderOutput(dataTable, element);\n",
              "          const docLink = document.createElement('div');\n",
              "          docLink.innerHTML = docLinkHtml;\n",
              "          element.appendChild(docLink);\n",
              "        }\n",
              "      </script>\n",
              "    </div>\n",
              "  </div>\n",
              "  "
            ]
          },
          "metadata": {},
          "execution_count": 46
        }
      ],
      "source": [
        "knn = KNeighborsClassifier(n_neighbors=10)\n",
        "\n",
        "acc = []\n",
        "f1 = []\n",
        "auc = []\n",
        "\n",
        "train_X = [X_train, X_train_norm, X_train_stand]\n",
        "test_X = [X_test, X_test_norm, X_test_stand]\n",
        "\n",
        "\n",
        "for i in range(len(train_X)):\n",
        "    knn.fit(train_X[i],y_train)\n",
        "    pred = knn.predict(test_X[i])\n",
        "    acc.append(accuracy_score(y_test,pred))\n",
        "    f1.append(f1_score(y_test,pred))\n",
        "    auc.append(roc_auc_score(y_test,pred))\n",
        "\n",
        "df_knn = pd.DataFrame({'Accuracy':acc, 'F1 score': f1, 'ROCAUC' : auc},index=['Original','Normalized','Standardized'])\n",
        "df_knn\n"
      ]
    },
    {
      "cell_type": "markdown",
      "source": [
        "##Findings and Thoughts \n",
        "Comparing the above models, we see that the Random Forest Classifier performs best with the raw data (overlooking scaling performed for a few of the models). Scaling data for Random Forest would not improve performance because it is a tree-based algorithm that partitions the data. KNN calculates the euclidian distance between points, so scaling does change the algorithm's performance. In the above case, we saw that scaling did not improve our model's metrics which is unexpected. It must be remembered that scaling does NOT ALWAYS improve performance but this is unexpected. The Logistic Regression model and Naive Bayes models perform less well than the RF model on all metrics we are using. RF models generally perform better with a class imbalance where there are more positives than negatives (\"humans\" than \"bots\") which is true in the case of our data. \\\\\n",
        "Looking forward, I also know that Random Forest models do perform better with categorical data as well. \\\\\n",
        "The trade-off between the Logistic Regression and RF models is time vs performance. The Logistic Regression is much faster to train so thinking about expanding this model for use with larger datasets must be kept in mind. Naive Bayes is also a smaller model that adapts to changes in data better than a Random Forest but also performs worse with class imbalance. \\\\\n",
        "I have also chosen not to perform K-fold Cross-Validation on any of the models because due to the moderate class imbalance, the folds created might exacerbate the class imbalance negatively affecting the model's ability to generalize its learning. \\\\\n",
        "Next, I will try to optimize the hyperparameters of the Random Forest Model to see if we can find hyperparameter values to improve the performance. \n"
      ],
      "metadata": {
        "id": "mPEBw55r8HIy"
      }
    },
    {
      "cell_type": "markdown",
      "metadata": {
        "id": "fu7WXE-RWn4Y"
      },
      "source": [
        "#Hyper Parameter Tuning: Randomized Search \n",
        "I chose to use a randomized search over a grid search because it allows me to find a hyperparameter setting that I would not have guessed intuitively. I must concede that there is high variance in the performance of the RandomizedSearchCV and does take time to run. However given the smaller dataset, I think it is a cost worth incurring to try to see if we can improve the performance of the model. \\\\\n",
        "\n"
      ]
    },
    {
      "cell_type": "code",
      "execution_count": 47,
      "metadata": {
        "id": "5NJxvaNxRD8W"
      },
      "outputs": [],
      "source": [
        "from sklearn.model_selection import RandomizedSearchCV\n",
        "\n",
        "\n",
        "max_features = [1,3,6,9]\n",
        "\n",
        "max_depth = [1,3,6,9,12,15, 20, 25 , 30 , 35, 40, None]\n",
        "\n",
        "\n",
        "min_samples_split = [1.0,3,6,9,12,15,20, 25, 30, 40 , 50]\n",
        "\n",
        "min_samples_leaf = [3,6,9,12,15, 20, 30 , 40 , 50]\n",
        "\n",
        "bootstrap = [True, False]\n",
        "\n",
        "random_grid = {\n",
        "               'max_features': max_features,\n",
        "               'max_depth': max_depth,\n",
        "               'min_samples_split': min_samples_split,\n",
        "               'min_samples_leaf': min_samples_leaf,\n",
        "               'bootstrap': bootstrap}\n"
      ]
    },
    {
      "cell_type": "code",
      "execution_count": 49,
      "metadata": {
        "colab": {
          "base_uri": "https://localhost:8080/"
        },
        "id": "Zp1Pg1CqRIc6",
        "outputId": "bb6c1f33-d45b-4b34-a05d-e53820b6c28b"
      },
      "outputs": [
        {
          "output_type": "execute_result",
          "data": {
            "text/plain": [
              "RandomizedSearchCV(estimator=RandomForestClassifier(), n_iter=100, n_jobs=-1,\n",
              "                   param_distributions={'bootstrap': [True, False],\n",
              "                                        'max_depth': [1, 3, 6, 9, 12, 15, 20,\n",
              "                                                      25, 30, 35, 40, None],\n",
              "                                        'max_features': [1, 3, 6, 9],\n",
              "                                        'min_samples_leaf': [3, 6, 9, 12, 15,\n",
              "                                                             20, 30, 40, 50],\n",
              "                                        'min_samples_split': [1.0, 3, 6, 9, 12,\n",
              "                                                              15, 20, 25, 30,\n",
              "                                                              40, 50]})"
            ]
          },
          "metadata": {},
          "execution_count": 49
        }
      ],
      "source": [
        "\n",
        "rf = RandomForestClassifier()\n",
        " \n",
        "rf_random = RandomizedSearchCV(estimator = rf, param_distributions = random_grid, n_iter = 100, n_jobs = -1)\n",
        "\n",
        "rf_random.fit(X_train, y_train)"
      ]
    },
    {
      "cell_type": "code",
      "execution_count": 50,
      "metadata": {
        "colab": {
          "base_uri": "https://localhost:8080/"
        },
        "id": "nz8CP-BeRfbh",
        "outputId": "b75404a1-5a57-4e0f-de94-0b522130d607"
      },
      "outputs": [
        {
          "output_type": "execute_result",
          "data": {
            "text/plain": [
              "{'bootstrap': True,\n",
              " 'max_depth': 20,\n",
              " 'max_features': 9,\n",
              " 'min_samples_leaf': 9,\n",
              " 'min_samples_split': 9}"
            ]
          },
          "metadata": {},
          "execution_count": 50
        }
      ],
      "source": [
        "rf_random.best_params_"
      ]
    },
    {
      "cell_type": "code",
      "execution_count": 54,
      "metadata": {
        "colab": {
          "base_uri": "https://localhost:8080/"
        },
        "id": "EHbjhWXqt0Ez",
        "outputId": "ce023cce-33d6-4396-c395-bcbff92d01c0"
      },
      "outputs": [
        {
          "output_type": "stream",
          "name": "stdout",
          "text": [
            "Training Metrics\n",
            "ROCAUC score: 0.8923070086304022\n",
            "Accuracy score: 0.9161936560934891\n",
            "F1 score: 0.938878877903862\n",
            "Testing Metrics\n",
            "ROCAUC score: 0.8442613045545293\n",
            "Accuracy score: 0.875267094017094\n",
            "F1 score: 0.9093379926227916\n"
          ]
        }
      ],
      "source": [
        "rfc = RandomForestClassifier(max_depth = 20, max_features = 9, min_samples_leaf = 9, min_samples_split = 9, bootstrap = True)\n",
        "# X_train, X_test, y_train, y_test = train_test_split(x_ros, y_ros, test_size=0.2, random_state=42)\n",
        "# fit the predictor and target\n",
        "X_train, X_test, y_train, y_test = train_test_split(features, labels, test_size=0.2, random_state=42)\n",
        "rfc.fit(X_train, y_train)\n",
        "\n",
        "# predict\n",
        "train= rfc.predict(X_train)\n",
        "pred = rfc.predict(X_test)\n",
        "\n",
        "print(\"Training Metrics\")\n",
        "print('ROCAUC score:',roc_auc_score(y_train, train))\n",
        "print('Accuracy score:',accuracy_score(y_train, train))\n",
        "print('F1 score:',f1_score(y_train, train))\n",
        "print(\"Testing Metrics\")\n",
        "print('ROCAUC score:',roc_auc_score(y_test, pred))\n",
        "print('Accuracy score:',accuracy_score(y_test, pred))\n",
        "print('F1 score:',f1_score(y_test, pred))"
      ]
    },
    {
      "cell_type": "markdown",
      "source": [
        "##Finding and Thoughts \n",
        "In the below implementation is take around 45 minutes to run completely. \\\\\n",
        "After fitting a model with the best parameters we can actually see tht there is not a significant improvement in the performance of the model. This could be due to the natural noise in the data. "
      ],
      "metadata": {
        "id": "jIDFA0UeOoUH"
      }
    },
    {
      "cell_type": "markdown",
      "metadata": {
        "id": "DffKDq6c0EZX"
      },
      "source": [
        "#Models: Feature Engineering\n",
        "\n",
        "To use the engineered data, I will use both a Logistic Regression and Random Forest Classifier. I chose these two models because I thought it would help me see clearly if any of the feature engineering improved performance by a significant amount. The Logistic regression model will help chose if balancing the classes is important and the Random Forest Model is so far the best performing model and should still perform well with categorical data.\n"
      ]
    },
    {
      "cell_type": "markdown",
      "source": [
        "##Logisitc Regression: imputed and encoded \n",
        "Here imputation and encoding did not improve performance at all. This is understandable as logistic regression does not normally perform well with categorical variables or class imbalance ( which still persists in this setting)"
      ],
      "metadata": {
        "id": "qphYha2TGJIK"
      }
    },
    {
      "cell_type": "code",
      "source": [
        "# run either the binary or target encoding before and \"split the data into feature... later\" running this cell\n",
        "X_train, X_test, y_train, y_test = train_test_split(features_enc, labels_enc, test_size=0.2, random_state=42)"
      ],
      "metadata": {
        "id": "SjZyo7s5GQrL"
      },
      "execution_count": 140,
      "outputs": []
    },
    {
      "cell_type": "code",
      "execution_count": 92,
      "metadata": {
        "colab": {
          "base_uri": "https://localhost:8080/"
        },
        "id": "f_e1LKLgpMuL",
        "outputId": "75782e7f-6cc6-4c8e-c619-f34ac106f42a"
      },
      "outputs": [
        {
          "output_type": "stream",
          "name": "stdout",
          "text": [
            "Training Metrics\n",
            "ROCAUC score: 0.5086916304634607\n",
            "Accuracy score: 0.6726878130217029\n",
            "F1 score: 0.8026652173037824\n",
            "Testing Metrics\n",
            "ROCAUC score: 0.5110683532774748\n",
            "Accuracy score: 0.6738782051282052\n",
            "F1 score: 0.8031280232183167\n"
          ]
        }
      ],
      "source": [
        "lr = LogisticRegression()\n",
        "\n",
        "lr.fit(X_train, y_train)\n",
        "train = lr.predict(X_train)\n",
        "pred = lr.predict(X_test)\n",
        "\n",
        "print(\"Training Metrics\")\n",
        "print('ROCAUC score:',roc_auc_score(y_train, train))\n",
        "print('Accuracy score:',accuracy_score(y_train, train))\n",
        "print('F1 score:',f1_score(y_train, train))\n",
        "print(\"Testing Metrics\")\n",
        "print('ROCAUC score:',roc_auc_score(y_test, pred))\n",
        "print('Accuracy score:',accuracy_score(y_test, pred))\n",
        "print('F1 score:',f1_score(y_test, pred))"
      ]
    },
    {
      "cell_type": "markdown",
      "source": [
        "##Random Forest Classifier: imputed and encoded \n",
        "Here I saw that target encoding provided marginally better results but not enough to support the encoding method as the dataset grows. With each new row, we could have had just as many new unique languages and locations and with an increase in performance of around 2% in the F1 score and 1% in the accuracy, it does not seem worth it. "
      ],
      "metadata": {
        "id": "_RnMNinvGfTh"
      }
    },
    {
      "cell_type": "code",
      "execution_count": 141,
      "metadata": {
        "id": "HYcCLrHIzJzh",
        "colab": {
          "base_uri": "https://localhost:8080/"
        },
        "outputId": "8fe93845-2e3c-4989-e941-c6a2aae8e163"
      },
      "outputs": [
        {
          "output_type": "stream",
          "name": "stdout",
          "text": [
            "Training Metrics\n",
            "ROCAUC score: 0.9006533190168411\n",
            "Accuracy score: 0.9222704507512521\n",
            "F1 score: 0.9431474064667382\n",
            "Testing Metrics\n",
            "ROCAUC score: 0.8533072637583461\n",
            "Accuracy score: 0.8814102564102564\n",
            "F1 score: 0.9134502923976608\n"
          ]
        }
      ],
      "source": [
        "rfc = RandomForestClassifier(max_depth = 20, max_features = 9, min_samples_leaf = 9, min_samples_split = 9, bootstrap = True)\n",
        "\n",
        "rfc.fit(X_train, y_train)\n",
        "train = rfc.predict(X_train)\n",
        "pred = rfc.predict(X_test)\n",
        "\n",
        "print(\"Training Metrics\")\n",
        "print('ROCAUC score:',roc_auc_score(y_train, train))\n",
        "print('Accuracy score:',accuracy_score(y_train, train))\n",
        "print('F1 score:',f1_score(y_train, train))\n",
        "print(\"Testing Metrics\")\n",
        "print('ROCAUC score:',roc_auc_score(y_test, pred))\n",
        "print('Accuracy score:',accuracy_score(y_test, pred))\n",
        "print('F1 score:',f1_score(y_test, pred))"
      ]
    },
    {
      "cell_type": "markdown",
      "source": [
        "## Logisitc Regression : Sampling to deal with Class imbalance \n",
        "Here I hoped the sampling techniques would help the logisitc regression model perform better, however the opposite happened. "
      ],
      "metadata": {
        "id": "aQstvlwdGtVH"
      }
    },
    {
      "cell_type": "code",
      "execution_count": 151,
      "metadata": {
        "colab": {
          "base_uri": "https://localhost:8080/",
          "height": 143
        },
        "id": "p209LBSit2s_",
        "outputId": "034e89b5-7075-4d45-bbca-e695e132a4e3"
      },
      "outputs": [
        {
          "output_type": "execute_result",
          "data": {
            "text/plain": [
              "              Accuracy  F1 score    ROCAUC\n",
              "Original      0.673878  0.803128  0.511068\n",
              "Oversampled   0.664931  0.685392  0.724793\n",
              "Undersampled  0.662260  0.681927  0.722996"
            ],
            "text/html": [
              "\n",
              "  <div id=\"df-29b7383d-cef7-4542-adce-1a06beff6aa4\">\n",
              "    <div class=\"colab-df-container\">\n",
              "      <div>\n",
              "<style scoped>\n",
              "    .dataframe tbody tr th:only-of-type {\n",
              "        vertical-align: middle;\n",
              "    }\n",
              "\n",
              "    .dataframe tbody tr th {\n",
              "        vertical-align: top;\n",
              "    }\n",
              "\n",
              "    .dataframe thead th {\n",
              "        text-align: right;\n",
              "    }\n",
              "</style>\n",
              "<table border=\"1\" class=\"dataframe\">\n",
              "  <thead>\n",
              "    <tr style=\"text-align: right;\">\n",
              "      <th></th>\n",
              "      <th>Accuracy</th>\n",
              "      <th>F1 score</th>\n",
              "      <th>ROCAUC</th>\n",
              "    </tr>\n",
              "  </thead>\n",
              "  <tbody>\n",
              "    <tr>\n",
              "      <th>Original</th>\n",
              "      <td>0.673878</td>\n",
              "      <td>0.803128</td>\n",
              "      <td>0.511068</td>\n",
              "    </tr>\n",
              "    <tr>\n",
              "      <th>Oversampled</th>\n",
              "      <td>0.664931</td>\n",
              "      <td>0.685392</td>\n",
              "      <td>0.724793</td>\n",
              "    </tr>\n",
              "    <tr>\n",
              "      <th>Undersampled</th>\n",
              "      <td>0.662260</td>\n",
              "      <td>0.681927</td>\n",
              "      <td>0.722996</td>\n",
              "    </tr>\n",
              "  </tbody>\n",
              "</table>\n",
              "</div>\n",
              "      <button class=\"colab-df-convert\" onclick=\"convertToInteractive('df-29b7383d-cef7-4542-adce-1a06beff6aa4')\"\n",
              "              title=\"Convert this dataframe to an interactive table.\"\n",
              "              style=\"display:none;\">\n",
              "        \n",
              "  <svg xmlns=\"http://www.w3.org/2000/svg\" height=\"24px\"viewBox=\"0 0 24 24\"\n",
              "       width=\"24px\">\n",
              "    <path d=\"M0 0h24v24H0V0z\" fill=\"none\"/>\n",
              "    <path d=\"M18.56 5.44l.94 2.06.94-2.06 2.06-.94-2.06-.94-.94-2.06-.94 2.06-2.06.94zm-11 1L8.5 8.5l.94-2.06 2.06-.94-2.06-.94L8.5 2.5l-.94 2.06-2.06.94zm10 10l.94 2.06.94-2.06 2.06-.94-2.06-.94-.94-2.06-.94 2.06-2.06.94z\"/><path d=\"M17.41 7.96l-1.37-1.37c-.4-.4-.92-.59-1.43-.59-.52 0-1.04.2-1.43.59L10.3 9.45l-7.72 7.72c-.78.78-.78 2.05 0 2.83L4 21.41c.39.39.9.59 1.41.59.51 0 1.02-.2 1.41-.59l7.78-7.78 2.81-2.81c.8-.78.8-2.07 0-2.86zM5.41 20L4 18.59l7.72-7.72 1.47 1.35L5.41 20z\"/>\n",
              "  </svg>\n",
              "      </button>\n",
              "      \n",
              "  <style>\n",
              "    .colab-df-container {\n",
              "      display:flex;\n",
              "      flex-wrap:wrap;\n",
              "      gap: 12px;\n",
              "    }\n",
              "\n",
              "    .colab-df-convert {\n",
              "      background-color: #E8F0FE;\n",
              "      border: none;\n",
              "      border-radius: 50%;\n",
              "      cursor: pointer;\n",
              "      display: none;\n",
              "      fill: #1967D2;\n",
              "      height: 32px;\n",
              "      padding: 0 0 0 0;\n",
              "      width: 32px;\n",
              "    }\n",
              "\n",
              "    .colab-df-convert:hover {\n",
              "      background-color: #E2EBFA;\n",
              "      box-shadow: 0px 1px 2px rgba(60, 64, 67, 0.3), 0px 1px 3px 1px rgba(60, 64, 67, 0.15);\n",
              "      fill: #174EA6;\n",
              "    }\n",
              "\n",
              "    [theme=dark] .colab-df-convert {\n",
              "      background-color: #3B4455;\n",
              "      fill: #D2E3FC;\n",
              "    }\n",
              "\n",
              "    [theme=dark] .colab-df-convert:hover {\n",
              "      background-color: #434B5C;\n",
              "      box-shadow: 0px 1px 3px 1px rgba(0, 0, 0, 0.15);\n",
              "      filter: drop-shadow(0px 1px 2px rgba(0, 0, 0, 0.3));\n",
              "      fill: #FFFFFF;\n",
              "    }\n",
              "  </style>\n",
              "\n",
              "      <script>\n",
              "        const buttonEl =\n",
              "          document.querySelector('#df-29b7383d-cef7-4542-adce-1a06beff6aa4 button.colab-df-convert');\n",
              "        buttonEl.style.display =\n",
              "          google.colab.kernel.accessAllowed ? 'block' : 'none';\n",
              "\n",
              "        async function convertToInteractive(key) {\n",
              "          const element = document.querySelector('#df-29b7383d-cef7-4542-adce-1a06beff6aa4');\n",
              "          const dataTable =\n",
              "            await google.colab.kernel.invokeFunction('convertToInteractive',\n",
              "                                                     [key], {});\n",
              "          if (!dataTable) return;\n",
              "\n",
              "          const docLinkHtml = 'Like what you see? Visit the ' +\n",
              "            '<a target=\"_blank\" href=https://colab.research.google.com/notebooks/data_table.ipynb>data table notebook</a>'\n",
              "            + ' to learn more about interactive tables.';\n",
              "          element.innerHTML = '';\n",
              "          dataTable['output_type'] = 'display_data';\n",
              "          await google.colab.output.renderOutput(dataTable, element);\n",
              "          const docLink = document.createElement('div');\n",
              "          docLink.innerHTML = docLinkHtml;\n",
              "          element.appendChild(docLink);\n",
              "        }\n",
              "      </script>\n",
              "    </div>\n",
              "  </div>\n",
              "  "
            ]
          },
          "metadata": {},
          "execution_count": 151
        }
      ],
      "source": [
        "# run \"dealing with class imbalance\" section RIGHT before this section to ensure you have to correct trainning and testing splits\n",
        "acc = []\n",
        "f1 = []\n",
        "auc = []\n",
        "\n",
        "train_X = [X_train, x_ros, x_rus]\n",
        "train_y = [y_train, y_ros, y_rus]\n",
        "\n",
        "\n",
        "for i in range(len(train_X)):\n",
        "  lr = LogisticRegression()\n",
        "\n",
        "  lr.fit(train_X[i], train_y[i])\n",
        "  pred = lr.predict(X_test)\n",
        "\n",
        "  acc.append(accuracy_score(y_test,pred))\n",
        "  f1.append(f1_score(y_test,pred))\n",
        "  auc.append(roc_auc_score(y_test,pred))\n",
        "\n",
        "df_lr = pd.DataFrame({'Accuracy':acc, 'F1 score': f1, 'ROCAUC' : auc},index=['Original','Oversampled','Undersampled'])\n",
        "df_lr"
      ]
    },
    {
      "cell_type": "markdown",
      "source": [
        "##Random Forest Classifier: Sampling to deal with class imbalance\n",
        "I don't expect performance to increase significantly in this case due to the fact RF is good at dealing with the class imbalance. My thoughts were confirmed as all metrics stayed around the same values across the three settings\n"
      ],
      "metadata": {
        "id": "B0U4v9fzIW7L"
      }
    },
    {
      "cell_type": "code",
      "source": [
        "# run \"dealing with class imbalance\" section RIGHT before this section to ensure you have to correct trainning and testing splits\n",
        "acc = []\n",
        "f1 = []\n",
        "auc = []\n",
        "\n",
        "train_X = [X_train, x_ros, x_rus]\n",
        "train_y = [y_train, y_ros, y_rus]\n",
        "\n",
        "\n",
        "for i in range(len(train_X)):\n",
        "  RandomForestClassifier(max_depth = 20, max_features = 9, min_samples_leaf = 9, min_samples_split = 9, bootstrap = True)\n",
        "\n",
        "  rfc.fit(train_X[i], train_y[i])\n",
        "  pred = rfc.predict(X_test)\n",
        "\n",
        "\n",
        "  acc.append(accuracy_score(y_test,pred))\n",
        "  f1.append(f1_score(y_test,pred))\n",
        "  auc.append(roc_auc_score(y_test,pred))\n",
        "\n",
        "df_rfc = pd.DataFrame({'Accuracy':acc, 'F1 score': f1, 'ROCAUC' : auc},index=['Original','Oversampled','Undersampled'])\n",
        "df_rfc"
      ],
      "metadata": {
        "colab": {
          "base_uri": "https://localhost:8080/",
          "height": 143
        },
        "id": "1kZqbI0QPYDx",
        "outputId": "7e2a9b0f-d0ef-450a-855b-b93ccd936319"
      },
      "execution_count": 152,
      "outputs": [
        {
          "output_type": "execute_result",
          "data": {
            "text/plain": [
              "              Accuracy  F1 score    ROCAUC\n",
              "Original      0.880342  0.912722  0.851800\n",
              "Oversampled   0.872863  0.903916  0.861462\n",
              "Undersampled  0.860710  0.892352  0.858832"
            ],
            "text/html": [
              "\n",
              "  <div id=\"df-c439c23c-bb40-4060-a29b-5e2b42c9d076\">\n",
              "    <div class=\"colab-df-container\">\n",
              "      <div>\n",
              "<style scoped>\n",
              "    .dataframe tbody tr th:only-of-type {\n",
              "        vertical-align: middle;\n",
              "    }\n",
              "\n",
              "    .dataframe tbody tr th {\n",
              "        vertical-align: top;\n",
              "    }\n",
              "\n",
              "    .dataframe thead th {\n",
              "        text-align: right;\n",
              "    }\n",
              "</style>\n",
              "<table border=\"1\" class=\"dataframe\">\n",
              "  <thead>\n",
              "    <tr style=\"text-align: right;\">\n",
              "      <th></th>\n",
              "      <th>Accuracy</th>\n",
              "      <th>F1 score</th>\n",
              "      <th>ROCAUC</th>\n",
              "    </tr>\n",
              "  </thead>\n",
              "  <tbody>\n",
              "    <tr>\n",
              "      <th>Original</th>\n",
              "      <td>0.880342</td>\n",
              "      <td>0.912722</td>\n",
              "      <td>0.851800</td>\n",
              "    </tr>\n",
              "    <tr>\n",
              "      <th>Oversampled</th>\n",
              "      <td>0.872863</td>\n",
              "      <td>0.903916</td>\n",
              "      <td>0.861462</td>\n",
              "    </tr>\n",
              "    <tr>\n",
              "      <th>Undersampled</th>\n",
              "      <td>0.860710</td>\n",
              "      <td>0.892352</td>\n",
              "      <td>0.858832</td>\n",
              "    </tr>\n",
              "  </tbody>\n",
              "</table>\n",
              "</div>\n",
              "      <button class=\"colab-df-convert\" onclick=\"convertToInteractive('df-c439c23c-bb40-4060-a29b-5e2b42c9d076')\"\n",
              "              title=\"Convert this dataframe to an interactive table.\"\n",
              "              style=\"display:none;\">\n",
              "        \n",
              "  <svg xmlns=\"http://www.w3.org/2000/svg\" height=\"24px\"viewBox=\"0 0 24 24\"\n",
              "       width=\"24px\">\n",
              "    <path d=\"M0 0h24v24H0V0z\" fill=\"none\"/>\n",
              "    <path d=\"M18.56 5.44l.94 2.06.94-2.06 2.06-.94-2.06-.94-.94-2.06-.94 2.06-2.06.94zm-11 1L8.5 8.5l.94-2.06 2.06-.94-2.06-.94L8.5 2.5l-.94 2.06-2.06.94zm10 10l.94 2.06.94-2.06 2.06-.94-2.06-.94-.94-2.06-.94 2.06-2.06.94z\"/><path d=\"M17.41 7.96l-1.37-1.37c-.4-.4-.92-.59-1.43-.59-.52 0-1.04.2-1.43.59L10.3 9.45l-7.72 7.72c-.78.78-.78 2.05 0 2.83L4 21.41c.39.39.9.59 1.41.59.51 0 1.02-.2 1.41-.59l7.78-7.78 2.81-2.81c.8-.78.8-2.07 0-2.86zM5.41 20L4 18.59l7.72-7.72 1.47 1.35L5.41 20z\"/>\n",
              "  </svg>\n",
              "      </button>\n",
              "      \n",
              "  <style>\n",
              "    .colab-df-container {\n",
              "      display:flex;\n",
              "      flex-wrap:wrap;\n",
              "      gap: 12px;\n",
              "    }\n",
              "\n",
              "    .colab-df-convert {\n",
              "      background-color: #E8F0FE;\n",
              "      border: none;\n",
              "      border-radius: 50%;\n",
              "      cursor: pointer;\n",
              "      display: none;\n",
              "      fill: #1967D2;\n",
              "      height: 32px;\n",
              "      padding: 0 0 0 0;\n",
              "      width: 32px;\n",
              "    }\n",
              "\n",
              "    .colab-df-convert:hover {\n",
              "      background-color: #E2EBFA;\n",
              "      box-shadow: 0px 1px 2px rgba(60, 64, 67, 0.3), 0px 1px 3px 1px rgba(60, 64, 67, 0.15);\n",
              "      fill: #174EA6;\n",
              "    }\n",
              "\n",
              "    [theme=dark] .colab-df-convert {\n",
              "      background-color: #3B4455;\n",
              "      fill: #D2E3FC;\n",
              "    }\n",
              "\n",
              "    [theme=dark] .colab-df-convert:hover {\n",
              "      background-color: #434B5C;\n",
              "      box-shadow: 0px 1px 3px 1px rgba(0, 0, 0, 0.15);\n",
              "      filter: drop-shadow(0px 1px 2px rgba(0, 0, 0, 0.3));\n",
              "      fill: #FFFFFF;\n",
              "    }\n",
              "  </style>\n",
              "\n",
              "      <script>\n",
              "        const buttonEl =\n",
              "          document.querySelector('#df-c439c23c-bb40-4060-a29b-5e2b42c9d076 button.colab-df-convert');\n",
              "        buttonEl.style.display =\n",
              "          google.colab.kernel.accessAllowed ? 'block' : 'none';\n",
              "\n",
              "        async function convertToInteractive(key) {\n",
              "          const element = document.querySelector('#df-c439c23c-bb40-4060-a29b-5e2b42c9d076');\n",
              "          const dataTable =\n",
              "            await google.colab.kernel.invokeFunction('convertToInteractive',\n",
              "                                                     [key], {});\n",
              "          if (!dataTable) return;\n",
              "\n",
              "          const docLinkHtml = 'Like what you see? Visit the ' +\n",
              "            '<a target=\"_blank\" href=https://colab.research.google.com/notebooks/data_table.ipynb>data table notebook</a>'\n",
              "            + ' to learn more about interactive tables.';\n",
              "          element.innerHTML = '';\n",
              "          dataTable['output_type'] = 'display_data';\n",
              "          await google.colab.output.renderOutput(dataTable, element);\n",
              "          const docLink = document.createElement('div');\n",
              "          docLink.innerHTML = docLinkHtml;\n",
              "          element.appendChild(docLink);\n",
              "        }\n",
              "      </script>\n",
              "    </div>\n",
              "  </div>\n",
              "  "
            ]
          },
          "metadata": {},
          "execution_count": 152
        }
      ]
    },
    {
      "cell_type": "markdown",
      "source": [
        "#Conclusion\n",
        "\n",
        "Overall the best model I found was a Random Forest Classifier using target encoding and imputation. This model has an F1 score of 91%, an accuracy score of 88%, and a ROCAUC score of 85%. The second-best model was a Random Forest Classifier without the categorical variables included which performed at the level of the aforementioned model but 1-2% less on each metric. \\\\\n",
        "The accuracy is not ideal but it is also important to see that we have a very good F1 score which means the model has pretty good precision(how many is it classifying correctly) and also does not misclassify a lot of instances. The metric is less intuitive but allows us to ensure that our model isn't falling victim to class imbalance. The relatively high ROCAUC is also a good sign because this means the model is pretty good at distinguishing the two classes. \\\\\n",
        "The multiple efforts at data engineering including the scaling, imputing, and encoding along with the randomized hyperparameter search didn't immensely improve performance. I am starting to believe that there might be noise in the data that is restricting performance. \\\\\n",
        "Ways to improve future performance would be to find more data and find new features of data that might help the model learn better. Along with this, I could try more sophisticated imputation methods like MICE imputations, or KKN-iterative imputations. Choices in these methods are restricted due to the sheer cardinality of the categorical variables. Along with this, I could try implement FAMD factor component analysis which is PCA and MCA combinations for mixed type datasets. \\\\\n",
        "\n"
      ],
      "metadata": {
        "id": "8zkYHC2MX-pS"
      }
    }
  ],
  "metadata": {
    "colab": {
      "collapsed_sections": [
        "aHoa6MpQd7DZ",
        "6o5BhEgxhXZj",
        "a4AW2MiWVP6l",
        "jvwhS6q7q8V_",
        "mqRdxpycr9OW",
        "AaQWZfZLlcfQ",
        "qbj1q9Bw6Clj",
        "4SgnONt7Zpmi",
        "XKf7ye3dYH8p",
        "MVNTnuQkfYmq",
        "x5HQ69nnyUHK",
        "q-4CwXaBKBlH",
        "fu7WXE-RWn4Y",
        "qphYha2TGJIK",
        "_RnMNinvGfTh",
        "aQstvlwdGtVH",
        "B0U4v9fzIW7L"
      ],
      "name": "BIOPHY Coding Assessment ",
      "toc_visible": true,
      "provenance": []
    },
    "kernelspec": {
      "display_name": "Python 3",
      "name": "python3"
    },
    "language_info": {
      "name": "python"
    }
  },
  "nbformat": 4,
  "nbformat_minor": 0
}